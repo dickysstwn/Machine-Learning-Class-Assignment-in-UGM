{
  "nbformat": 4,
  "nbformat_minor": 0,
  "metadata": {
    "colab": {
      "provenance": []
    },
    "kernelspec": {
      "name": "python3",
      "display_name": "Python 3"
    },
    "language_info": {
      "name": "python"
    }
  },
  "cells": [
    {
      "cell_type": "markdown",
      "source": [
        "Nama: Dicky Setiawan\n",
        "\n",
        "NIM: 22/511229/NPA/19857\n",
        "\n",
        "Kelas: KOMB\n",
        "\n",
        "\n",
        "# **Tugas 1 - Pembelajaran Mesin**\n",
        "\n",
        "*   Download dataset dari kaggle.com menggunakan API sesuai dengan langkah-langkah yang dijelaskan di slide (Dokumentasi API Kaggle https://www.kaggle.com/docs/api). Dataset yang di-download adalah dataset yang memiliki class atau target.\n",
        "*   Analisis data menggunakan metode statistik dan visualisasi secara komprehensif. Analisis insight atau knowledge yang diperoleh dari hasil tersebut.\n",
        "*   Buatlah kesimpulan berdasarkan analisis yang telah dilakukan, fitur mana yang berpengaruh signifikan terhadap variabel target dan jelaskan alasannya.\n",
        "*   Tugas dikirimkan dalam Jupyter Notebook dengan penjelasan (bisa berupa file .ipynb atau link ke Google Colab). Pastikan file atau link dapat dibuka dan diakses secara publik.\n",
        "\n",
        "\n",
        "\n",
        "\n",
        "\n"
      ],
      "metadata": {
        "id": "m2Mdr04r1cie"
      }
    },
    {
      "cell_type": "markdown",
      "source": [
        "**Link Google Colab**: https://colab.research.google.com/drive/1-OiLPZ8AuvJJy9PPmdoo9Y1F1kUrHlme?usp=sharing"
      ],
      "metadata": {
        "id": "TDCTXNlcH09G"
      }
    },
    {
      "cell_type": "markdown",
      "source": [
        "##**Analisis Data Menggunakan Metode Statistik**"
      ],
      "metadata": {
        "id": "hNcXuAnslL_Z"
      }
    },
    {
      "cell_type": "markdown",
      "source": [
        "###Memuat Data"
      ],
      "metadata": {
        "id": "kshFRbMbW5dc"
      }
    },
    {
      "cell_type": "code",
      "execution_count": 143,
      "metadata": {
        "id": "EOlVUb5B1TNq"
      },
      "outputs": [],
      "source": [
        "# Mengimpor library\n",
        "import pandas as pd\n",
        "import numpy as np\n",
        "import matplotlib.pyplot as plt\n",
        "import seaborn as sns"
      ]
    },
    {
      "cell_type": "code",
      "source": [
        "# Menghubungkan Google Drive dan Google Colab\n",
        "from google.colab import drive\n",
        "drive.mount('/content/gdrive')\n",
        "\n",
        "# Mengambil dataset\n",
        "dataset = '/content/gdrive/MyDrive/co2_emissions_kt_by_country.csv'\n",
        "df = pd.read_csv(dataset)"
      ],
      "metadata": {
        "colab": {
          "base_uri": "https://localhost:8080/"
        },
        "id": "waiH_SB_30DO",
        "outputId": "dab110a3-3a0c-472f-d434-ab10d985a264"
      },
      "execution_count": 144,
      "outputs": [
        {
          "output_type": "stream",
          "name": "stdout",
          "text": [
            "Drive already mounted at /content/gdrive; to attempt to forcibly remount, call drive.mount(\"/content/gdrive\", force_remount=True).\n"
          ]
        }
      ]
    },
    {
      "cell_type": "code",
      "source": [
        "# Menampilkan isi dataset secara keseluruhan\n",
        "df"
      ],
      "metadata": {
        "colab": {
          "base_uri": "https://localhost:8080/",
          "height": 424
        },
        "id": "v3NdFTWfGxGD",
        "outputId": "86bbc151-2c42-4920-f3a0-2b8e7c5483ba"
      },
      "execution_count": 145,
      "outputs": [
        {
          "output_type": "execute_result",
          "data": {
            "text/plain": [
              "      country_code country_name  year         value\n",
              "0              ABW        Aruba  1960  11092.675000\n",
              "1              ABW        Aruba  1961  11576.719000\n",
              "2              ABW        Aruba  1962  12713.489000\n",
              "3              ABW        Aruba  1963  12178.107000\n",
              "4              ABW        Aruba  1964  11840.743000\n",
              "...            ...          ...   ...           ...\n",
              "13948          ZWE     Zimbabwe  2015  12430.000305\n",
              "13949          ZWE     Zimbabwe  2016  11020.000458\n",
              "13950          ZWE     Zimbabwe  2017  10340.000153\n",
              "13951          ZWE     Zimbabwe  2018  12380.000114\n",
              "13952          ZWE     Zimbabwe  2019  11760.000229\n",
              "\n",
              "[13953 rows x 4 columns]"
            ],
            "text/html": [
              "\n",
              "  <div id=\"df-7183bfa3-267b-4de7-8309-0c844e8bf4ee\">\n",
              "    <div class=\"colab-df-container\">\n",
              "      <div>\n",
              "<style scoped>\n",
              "    .dataframe tbody tr th:only-of-type {\n",
              "        vertical-align: middle;\n",
              "    }\n",
              "\n",
              "    .dataframe tbody tr th {\n",
              "        vertical-align: top;\n",
              "    }\n",
              "\n",
              "    .dataframe thead th {\n",
              "        text-align: right;\n",
              "    }\n",
              "</style>\n",
              "<table border=\"1\" class=\"dataframe\">\n",
              "  <thead>\n",
              "    <tr style=\"text-align: right;\">\n",
              "      <th></th>\n",
              "      <th>country_code</th>\n",
              "      <th>country_name</th>\n",
              "      <th>year</th>\n",
              "      <th>value</th>\n",
              "    </tr>\n",
              "  </thead>\n",
              "  <tbody>\n",
              "    <tr>\n",
              "      <th>0</th>\n",
              "      <td>ABW</td>\n",
              "      <td>Aruba</td>\n",
              "      <td>1960</td>\n",
              "      <td>11092.675000</td>\n",
              "    </tr>\n",
              "    <tr>\n",
              "      <th>1</th>\n",
              "      <td>ABW</td>\n",
              "      <td>Aruba</td>\n",
              "      <td>1961</td>\n",
              "      <td>11576.719000</td>\n",
              "    </tr>\n",
              "    <tr>\n",
              "      <th>2</th>\n",
              "      <td>ABW</td>\n",
              "      <td>Aruba</td>\n",
              "      <td>1962</td>\n",
              "      <td>12713.489000</td>\n",
              "    </tr>\n",
              "    <tr>\n",
              "      <th>3</th>\n",
              "      <td>ABW</td>\n",
              "      <td>Aruba</td>\n",
              "      <td>1963</td>\n",
              "      <td>12178.107000</td>\n",
              "    </tr>\n",
              "    <tr>\n",
              "      <th>4</th>\n",
              "      <td>ABW</td>\n",
              "      <td>Aruba</td>\n",
              "      <td>1964</td>\n",
              "      <td>11840.743000</td>\n",
              "    </tr>\n",
              "    <tr>\n",
              "      <th>...</th>\n",
              "      <td>...</td>\n",
              "      <td>...</td>\n",
              "      <td>...</td>\n",
              "      <td>...</td>\n",
              "    </tr>\n",
              "    <tr>\n",
              "      <th>13948</th>\n",
              "      <td>ZWE</td>\n",
              "      <td>Zimbabwe</td>\n",
              "      <td>2015</td>\n",
              "      <td>12430.000305</td>\n",
              "    </tr>\n",
              "    <tr>\n",
              "      <th>13949</th>\n",
              "      <td>ZWE</td>\n",
              "      <td>Zimbabwe</td>\n",
              "      <td>2016</td>\n",
              "      <td>11020.000458</td>\n",
              "    </tr>\n",
              "    <tr>\n",
              "      <th>13950</th>\n",
              "      <td>ZWE</td>\n",
              "      <td>Zimbabwe</td>\n",
              "      <td>2017</td>\n",
              "      <td>10340.000153</td>\n",
              "    </tr>\n",
              "    <tr>\n",
              "      <th>13951</th>\n",
              "      <td>ZWE</td>\n",
              "      <td>Zimbabwe</td>\n",
              "      <td>2018</td>\n",
              "      <td>12380.000114</td>\n",
              "    </tr>\n",
              "    <tr>\n",
              "      <th>13952</th>\n",
              "      <td>ZWE</td>\n",
              "      <td>Zimbabwe</td>\n",
              "      <td>2019</td>\n",
              "      <td>11760.000229</td>\n",
              "    </tr>\n",
              "  </tbody>\n",
              "</table>\n",
              "<p>13953 rows × 4 columns</p>\n",
              "</div>\n",
              "      <button class=\"colab-df-convert\" onclick=\"convertToInteractive('df-7183bfa3-267b-4de7-8309-0c844e8bf4ee')\"\n",
              "              title=\"Convert this dataframe to an interactive table.\"\n",
              "              style=\"display:none;\">\n",
              "        \n",
              "  <svg xmlns=\"http://www.w3.org/2000/svg\" height=\"24px\"viewBox=\"0 0 24 24\"\n",
              "       width=\"24px\">\n",
              "    <path d=\"M0 0h24v24H0V0z\" fill=\"none\"/>\n",
              "    <path d=\"M18.56 5.44l.94 2.06.94-2.06 2.06-.94-2.06-.94-.94-2.06-.94 2.06-2.06.94zm-11 1L8.5 8.5l.94-2.06 2.06-.94-2.06-.94L8.5 2.5l-.94 2.06-2.06.94zm10 10l.94 2.06.94-2.06 2.06-.94-2.06-.94-.94-2.06-.94 2.06-2.06.94z\"/><path d=\"M17.41 7.96l-1.37-1.37c-.4-.4-.92-.59-1.43-.59-.52 0-1.04.2-1.43.59L10.3 9.45l-7.72 7.72c-.78.78-.78 2.05 0 2.83L4 21.41c.39.39.9.59 1.41.59.51 0 1.02-.2 1.41-.59l7.78-7.78 2.81-2.81c.8-.78.8-2.07 0-2.86zM5.41 20L4 18.59l7.72-7.72 1.47 1.35L5.41 20z\"/>\n",
              "  </svg>\n",
              "      </button>\n",
              "      \n",
              "  <style>\n",
              "    .colab-df-container {\n",
              "      display:flex;\n",
              "      flex-wrap:wrap;\n",
              "      gap: 12px;\n",
              "    }\n",
              "\n",
              "    .colab-df-convert {\n",
              "      background-color: #E8F0FE;\n",
              "      border: none;\n",
              "      border-radius: 50%;\n",
              "      cursor: pointer;\n",
              "      display: none;\n",
              "      fill: #1967D2;\n",
              "      height: 32px;\n",
              "      padding: 0 0 0 0;\n",
              "      width: 32px;\n",
              "    }\n",
              "\n",
              "    .colab-df-convert:hover {\n",
              "      background-color: #E2EBFA;\n",
              "      box-shadow: 0px 1px 2px rgba(60, 64, 67, 0.3), 0px 1px 3px 1px rgba(60, 64, 67, 0.15);\n",
              "      fill: #174EA6;\n",
              "    }\n",
              "\n",
              "    [theme=dark] .colab-df-convert {\n",
              "      background-color: #3B4455;\n",
              "      fill: #D2E3FC;\n",
              "    }\n",
              "\n",
              "    [theme=dark] .colab-df-convert:hover {\n",
              "      background-color: #434B5C;\n",
              "      box-shadow: 0px 1px 3px 1px rgba(0, 0, 0, 0.15);\n",
              "      filter: drop-shadow(0px 1px 2px rgba(0, 0, 0, 0.3));\n",
              "      fill: #FFFFFF;\n",
              "    }\n",
              "  </style>\n",
              "\n",
              "      <script>\n",
              "        const buttonEl =\n",
              "          document.querySelector('#df-7183bfa3-267b-4de7-8309-0c844e8bf4ee button.colab-df-convert');\n",
              "        buttonEl.style.display =\n",
              "          google.colab.kernel.accessAllowed ? 'block' : 'none';\n",
              "\n",
              "        async function convertToInteractive(key) {\n",
              "          const element = document.querySelector('#df-7183bfa3-267b-4de7-8309-0c844e8bf4ee');\n",
              "          const dataTable =\n",
              "            await google.colab.kernel.invokeFunction('convertToInteractive',\n",
              "                                                     [key], {});\n",
              "          if (!dataTable) return;\n",
              "\n",
              "          const docLinkHtml = 'Like what you see? Visit the ' +\n",
              "            '<a target=\"_blank\" href=https://colab.research.google.com/notebooks/data_table.ipynb>data table notebook</a>'\n",
              "            + ' to learn more about interactive tables.';\n",
              "          element.innerHTML = '';\n",
              "          dataTable['output_type'] = 'display_data';\n",
              "          await google.colab.output.renderOutput(dataTable, element);\n",
              "          const docLink = document.createElement('div');\n",
              "          docLink.innerHTML = docLinkHtml;\n",
              "          element.appendChild(docLink);\n",
              "        }\n",
              "      </script>\n",
              "    </div>\n",
              "  </div>\n",
              "  "
            ]
          },
          "metadata": {},
          "execution_count": 145
        }
      ]
    },
    {
      "cell_type": "code",
      "source": [
        "# Menampilkan dataset pada negara Indonesia\n",
        "indonesia_df = df[df['country_name'] == 'Indonesia']\n",
        "\n",
        "# Mengurutkan index\n",
        "indonesia_df = indonesia_df.reset_index(drop=True)\n",
        "\n",
        "# Menampilkan dataset pada negara Indonesia\n",
        "indonesia_df"
      ],
      "metadata": {
        "colab": {
          "base_uri": "https://localhost:8080/",
          "height": 1000
        },
        "id": "lJB_JqhMX53Q",
        "outputId": "a51c1452-b63d-4af8-f26f-6465b6772686"
      },
      "execution_count": 146,
      "outputs": [
        {
          "output_type": "execute_result",
          "data": {
            "text/plain": [
              "   country_code country_name  year          value\n",
              "0           IDN    Indonesia  1960   21404.279000\n",
              "1           IDN    Indonesia  1961   26024.699000\n",
              "2           IDN    Indonesia  1962   22995.757000\n",
              "3           IDN    Indonesia  1963   22783.071000\n",
              "4           IDN    Indonesia  1964   22394.369000\n",
              "5           IDN    Indonesia  1965   24689.911000\n",
              "6           IDN    Indonesia  1966   23395.460000\n",
              "7           IDN    Indonesia  1967   24561.566000\n",
              "8           IDN    Indonesia  1968   27586.841000\n",
              "9           IDN    Indonesia  1969   33391.702000\n",
              "10          IDN    Indonesia  1970   35822.923000\n",
              "11          IDN    Indonesia  1971   38987.544000\n",
              "12          IDN    Indonesia  1972   43340.273000\n",
              "13          IDN    Indonesia  1973   49134.133000\n",
              "14          IDN    Indonesia  1974   51260.993000\n",
              "15          IDN    Indonesia  1975   53963.572000\n",
              "16          IDN    Indonesia  1976   61810.952000\n",
              "17          IDN    Indonesia  1977   82434.160000\n",
              "18          IDN    Indonesia  1978   93933.872000\n",
              "19          IDN    Indonesia  1979   95096.311000\n",
              "20          IDN    Indonesia  1980   94784.616000\n",
              "21          IDN    Indonesia  1981  100160.438000\n",
              "22          IDN    Indonesia  1982  105407.915000\n",
              "23          IDN    Indonesia  1983  104956.874000\n",
              "24          IDN    Indonesia  1984  112184.531000\n",
              "25          IDN    Indonesia  1985  121245.688000\n",
              "26          IDN    Indonesia  1986  121740.733000\n",
              "27          IDN    Indonesia  1987  123372.548000\n",
              "28          IDN    Indonesia  1988  132162.347000\n",
              "29          IDN    Indonesia  1989  130966.905000\n",
              "30          IDN    Indonesia  1990  148530.000000\n",
              "31          IDN    Indonesia  1991  162400.000000\n",
              "32          IDN    Indonesia  1992  171510.000000\n",
              "33          IDN    Indonesia  1993  185090.000000\n",
              "34          IDN    Indonesia  1994  199180.000000\n",
              "35          IDN    Indonesia  1995  223680.000000\n",
              "36          IDN    Indonesia  1996  236720.000000\n",
              "37          IDN    Indonesia  1997  261160.000000\n",
              "38          IDN    Indonesia  1998  262700.000000\n",
              "39          IDN    Indonesia  1999  279480.000000\n",
              "40          IDN    Indonesia  2000  280650.000000\n",
              "41          IDN    Indonesia  2001  302060.000000\n",
              "42          IDN    Indonesia  2002  305640.014648\n",
              "43          IDN    Indonesia  2003  333890.014648\n",
              "44          IDN    Indonesia  2004  341239.990234\n",
              "45          IDN    Indonesia  2005  342149.993896\n",
              "46          IDN    Indonesia  2006  364470.001221\n",
              "47          IDN    Indonesia  2007  379959.991455\n",
              "48          IDN    Indonesia  2008  376140.014648\n",
              "49          IDN    Indonesia  2009  391079.986572\n",
              "50          IDN    Indonesia  2010  415519.989014\n",
              "51          IDN    Indonesia  2011  475309.997559\n",
              "52          IDN    Indonesia  2012  481510.009766\n",
              "53          IDN    Indonesia  2013  447940.002441\n",
              "54          IDN    Indonesia  2014  483910.003662\n",
              "55          IDN    Indonesia  2015  488549.987793\n",
              "56          IDN    Indonesia  2016  482510.009766\n",
              "57          IDN    Indonesia  2017  517320.007324\n",
              "58          IDN    Indonesia  2018  576989.990234\n",
              "59          IDN    Indonesia  2019  619840.026855"
            ],
            "text/html": [
              "\n",
              "  <div id=\"df-bd26a686-3920-4d25-a4b7-c8059e24fc66\">\n",
              "    <div class=\"colab-df-container\">\n",
              "      <div>\n",
              "<style scoped>\n",
              "    .dataframe tbody tr th:only-of-type {\n",
              "        vertical-align: middle;\n",
              "    }\n",
              "\n",
              "    .dataframe tbody tr th {\n",
              "        vertical-align: top;\n",
              "    }\n",
              "\n",
              "    .dataframe thead th {\n",
              "        text-align: right;\n",
              "    }\n",
              "</style>\n",
              "<table border=\"1\" class=\"dataframe\">\n",
              "  <thead>\n",
              "    <tr style=\"text-align: right;\">\n",
              "      <th></th>\n",
              "      <th>country_code</th>\n",
              "      <th>country_name</th>\n",
              "      <th>year</th>\n",
              "      <th>value</th>\n",
              "    </tr>\n",
              "  </thead>\n",
              "  <tbody>\n",
              "    <tr>\n",
              "      <th>0</th>\n",
              "      <td>IDN</td>\n",
              "      <td>Indonesia</td>\n",
              "      <td>1960</td>\n",
              "      <td>21404.279000</td>\n",
              "    </tr>\n",
              "    <tr>\n",
              "      <th>1</th>\n",
              "      <td>IDN</td>\n",
              "      <td>Indonesia</td>\n",
              "      <td>1961</td>\n",
              "      <td>26024.699000</td>\n",
              "    </tr>\n",
              "    <tr>\n",
              "      <th>2</th>\n",
              "      <td>IDN</td>\n",
              "      <td>Indonesia</td>\n",
              "      <td>1962</td>\n",
              "      <td>22995.757000</td>\n",
              "    </tr>\n",
              "    <tr>\n",
              "      <th>3</th>\n",
              "      <td>IDN</td>\n",
              "      <td>Indonesia</td>\n",
              "      <td>1963</td>\n",
              "      <td>22783.071000</td>\n",
              "    </tr>\n",
              "    <tr>\n",
              "      <th>4</th>\n",
              "      <td>IDN</td>\n",
              "      <td>Indonesia</td>\n",
              "      <td>1964</td>\n",
              "      <td>22394.369000</td>\n",
              "    </tr>\n",
              "    <tr>\n",
              "      <th>5</th>\n",
              "      <td>IDN</td>\n",
              "      <td>Indonesia</td>\n",
              "      <td>1965</td>\n",
              "      <td>24689.911000</td>\n",
              "    </tr>\n",
              "    <tr>\n",
              "      <th>6</th>\n",
              "      <td>IDN</td>\n",
              "      <td>Indonesia</td>\n",
              "      <td>1966</td>\n",
              "      <td>23395.460000</td>\n",
              "    </tr>\n",
              "    <tr>\n",
              "      <th>7</th>\n",
              "      <td>IDN</td>\n",
              "      <td>Indonesia</td>\n",
              "      <td>1967</td>\n",
              "      <td>24561.566000</td>\n",
              "    </tr>\n",
              "    <tr>\n",
              "      <th>8</th>\n",
              "      <td>IDN</td>\n",
              "      <td>Indonesia</td>\n",
              "      <td>1968</td>\n",
              "      <td>27586.841000</td>\n",
              "    </tr>\n",
              "    <tr>\n",
              "      <th>9</th>\n",
              "      <td>IDN</td>\n",
              "      <td>Indonesia</td>\n",
              "      <td>1969</td>\n",
              "      <td>33391.702000</td>\n",
              "    </tr>\n",
              "    <tr>\n",
              "      <th>10</th>\n",
              "      <td>IDN</td>\n",
              "      <td>Indonesia</td>\n",
              "      <td>1970</td>\n",
              "      <td>35822.923000</td>\n",
              "    </tr>\n",
              "    <tr>\n",
              "      <th>11</th>\n",
              "      <td>IDN</td>\n",
              "      <td>Indonesia</td>\n",
              "      <td>1971</td>\n",
              "      <td>38987.544000</td>\n",
              "    </tr>\n",
              "    <tr>\n",
              "      <th>12</th>\n",
              "      <td>IDN</td>\n",
              "      <td>Indonesia</td>\n",
              "      <td>1972</td>\n",
              "      <td>43340.273000</td>\n",
              "    </tr>\n",
              "    <tr>\n",
              "      <th>13</th>\n",
              "      <td>IDN</td>\n",
              "      <td>Indonesia</td>\n",
              "      <td>1973</td>\n",
              "      <td>49134.133000</td>\n",
              "    </tr>\n",
              "    <tr>\n",
              "      <th>14</th>\n",
              "      <td>IDN</td>\n",
              "      <td>Indonesia</td>\n",
              "      <td>1974</td>\n",
              "      <td>51260.993000</td>\n",
              "    </tr>\n",
              "    <tr>\n",
              "      <th>15</th>\n",
              "      <td>IDN</td>\n",
              "      <td>Indonesia</td>\n",
              "      <td>1975</td>\n",
              "      <td>53963.572000</td>\n",
              "    </tr>\n",
              "    <tr>\n",
              "      <th>16</th>\n",
              "      <td>IDN</td>\n",
              "      <td>Indonesia</td>\n",
              "      <td>1976</td>\n",
              "      <td>61810.952000</td>\n",
              "    </tr>\n",
              "    <tr>\n",
              "      <th>17</th>\n",
              "      <td>IDN</td>\n",
              "      <td>Indonesia</td>\n",
              "      <td>1977</td>\n",
              "      <td>82434.160000</td>\n",
              "    </tr>\n",
              "    <tr>\n",
              "      <th>18</th>\n",
              "      <td>IDN</td>\n",
              "      <td>Indonesia</td>\n",
              "      <td>1978</td>\n",
              "      <td>93933.872000</td>\n",
              "    </tr>\n",
              "    <tr>\n",
              "      <th>19</th>\n",
              "      <td>IDN</td>\n",
              "      <td>Indonesia</td>\n",
              "      <td>1979</td>\n",
              "      <td>95096.311000</td>\n",
              "    </tr>\n",
              "    <tr>\n",
              "      <th>20</th>\n",
              "      <td>IDN</td>\n",
              "      <td>Indonesia</td>\n",
              "      <td>1980</td>\n",
              "      <td>94784.616000</td>\n",
              "    </tr>\n",
              "    <tr>\n",
              "      <th>21</th>\n",
              "      <td>IDN</td>\n",
              "      <td>Indonesia</td>\n",
              "      <td>1981</td>\n",
              "      <td>100160.438000</td>\n",
              "    </tr>\n",
              "    <tr>\n",
              "      <th>22</th>\n",
              "      <td>IDN</td>\n",
              "      <td>Indonesia</td>\n",
              "      <td>1982</td>\n",
              "      <td>105407.915000</td>\n",
              "    </tr>\n",
              "    <tr>\n",
              "      <th>23</th>\n",
              "      <td>IDN</td>\n",
              "      <td>Indonesia</td>\n",
              "      <td>1983</td>\n",
              "      <td>104956.874000</td>\n",
              "    </tr>\n",
              "    <tr>\n",
              "      <th>24</th>\n",
              "      <td>IDN</td>\n",
              "      <td>Indonesia</td>\n",
              "      <td>1984</td>\n",
              "      <td>112184.531000</td>\n",
              "    </tr>\n",
              "    <tr>\n",
              "      <th>25</th>\n",
              "      <td>IDN</td>\n",
              "      <td>Indonesia</td>\n",
              "      <td>1985</td>\n",
              "      <td>121245.688000</td>\n",
              "    </tr>\n",
              "    <tr>\n",
              "      <th>26</th>\n",
              "      <td>IDN</td>\n",
              "      <td>Indonesia</td>\n",
              "      <td>1986</td>\n",
              "      <td>121740.733000</td>\n",
              "    </tr>\n",
              "    <tr>\n",
              "      <th>27</th>\n",
              "      <td>IDN</td>\n",
              "      <td>Indonesia</td>\n",
              "      <td>1987</td>\n",
              "      <td>123372.548000</td>\n",
              "    </tr>\n",
              "    <tr>\n",
              "      <th>28</th>\n",
              "      <td>IDN</td>\n",
              "      <td>Indonesia</td>\n",
              "      <td>1988</td>\n",
              "      <td>132162.347000</td>\n",
              "    </tr>\n",
              "    <tr>\n",
              "      <th>29</th>\n",
              "      <td>IDN</td>\n",
              "      <td>Indonesia</td>\n",
              "      <td>1989</td>\n",
              "      <td>130966.905000</td>\n",
              "    </tr>\n",
              "    <tr>\n",
              "      <th>30</th>\n",
              "      <td>IDN</td>\n",
              "      <td>Indonesia</td>\n",
              "      <td>1990</td>\n",
              "      <td>148530.000000</td>\n",
              "    </tr>\n",
              "    <tr>\n",
              "      <th>31</th>\n",
              "      <td>IDN</td>\n",
              "      <td>Indonesia</td>\n",
              "      <td>1991</td>\n",
              "      <td>162400.000000</td>\n",
              "    </tr>\n",
              "    <tr>\n",
              "      <th>32</th>\n",
              "      <td>IDN</td>\n",
              "      <td>Indonesia</td>\n",
              "      <td>1992</td>\n",
              "      <td>171510.000000</td>\n",
              "    </tr>\n",
              "    <tr>\n",
              "      <th>33</th>\n",
              "      <td>IDN</td>\n",
              "      <td>Indonesia</td>\n",
              "      <td>1993</td>\n",
              "      <td>185090.000000</td>\n",
              "    </tr>\n",
              "    <tr>\n",
              "      <th>34</th>\n",
              "      <td>IDN</td>\n",
              "      <td>Indonesia</td>\n",
              "      <td>1994</td>\n",
              "      <td>199180.000000</td>\n",
              "    </tr>\n",
              "    <tr>\n",
              "      <th>35</th>\n",
              "      <td>IDN</td>\n",
              "      <td>Indonesia</td>\n",
              "      <td>1995</td>\n",
              "      <td>223680.000000</td>\n",
              "    </tr>\n",
              "    <tr>\n",
              "      <th>36</th>\n",
              "      <td>IDN</td>\n",
              "      <td>Indonesia</td>\n",
              "      <td>1996</td>\n",
              "      <td>236720.000000</td>\n",
              "    </tr>\n",
              "    <tr>\n",
              "      <th>37</th>\n",
              "      <td>IDN</td>\n",
              "      <td>Indonesia</td>\n",
              "      <td>1997</td>\n",
              "      <td>261160.000000</td>\n",
              "    </tr>\n",
              "    <tr>\n",
              "      <th>38</th>\n",
              "      <td>IDN</td>\n",
              "      <td>Indonesia</td>\n",
              "      <td>1998</td>\n",
              "      <td>262700.000000</td>\n",
              "    </tr>\n",
              "    <tr>\n",
              "      <th>39</th>\n",
              "      <td>IDN</td>\n",
              "      <td>Indonesia</td>\n",
              "      <td>1999</td>\n",
              "      <td>279480.000000</td>\n",
              "    </tr>\n",
              "    <tr>\n",
              "      <th>40</th>\n",
              "      <td>IDN</td>\n",
              "      <td>Indonesia</td>\n",
              "      <td>2000</td>\n",
              "      <td>280650.000000</td>\n",
              "    </tr>\n",
              "    <tr>\n",
              "      <th>41</th>\n",
              "      <td>IDN</td>\n",
              "      <td>Indonesia</td>\n",
              "      <td>2001</td>\n",
              "      <td>302060.000000</td>\n",
              "    </tr>\n",
              "    <tr>\n",
              "      <th>42</th>\n",
              "      <td>IDN</td>\n",
              "      <td>Indonesia</td>\n",
              "      <td>2002</td>\n",
              "      <td>305640.014648</td>\n",
              "    </tr>\n",
              "    <tr>\n",
              "      <th>43</th>\n",
              "      <td>IDN</td>\n",
              "      <td>Indonesia</td>\n",
              "      <td>2003</td>\n",
              "      <td>333890.014648</td>\n",
              "    </tr>\n",
              "    <tr>\n",
              "      <th>44</th>\n",
              "      <td>IDN</td>\n",
              "      <td>Indonesia</td>\n",
              "      <td>2004</td>\n",
              "      <td>341239.990234</td>\n",
              "    </tr>\n",
              "    <tr>\n",
              "      <th>45</th>\n",
              "      <td>IDN</td>\n",
              "      <td>Indonesia</td>\n",
              "      <td>2005</td>\n",
              "      <td>342149.993896</td>\n",
              "    </tr>\n",
              "    <tr>\n",
              "      <th>46</th>\n",
              "      <td>IDN</td>\n",
              "      <td>Indonesia</td>\n",
              "      <td>2006</td>\n",
              "      <td>364470.001221</td>\n",
              "    </tr>\n",
              "    <tr>\n",
              "      <th>47</th>\n",
              "      <td>IDN</td>\n",
              "      <td>Indonesia</td>\n",
              "      <td>2007</td>\n",
              "      <td>379959.991455</td>\n",
              "    </tr>\n",
              "    <tr>\n",
              "      <th>48</th>\n",
              "      <td>IDN</td>\n",
              "      <td>Indonesia</td>\n",
              "      <td>2008</td>\n",
              "      <td>376140.014648</td>\n",
              "    </tr>\n",
              "    <tr>\n",
              "      <th>49</th>\n",
              "      <td>IDN</td>\n",
              "      <td>Indonesia</td>\n",
              "      <td>2009</td>\n",
              "      <td>391079.986572</td>\n",
              "    </tr>\n",
              "    <tr>\n",
              "      <th>50</th>\n",
              "      <td>IDN</td>\n",
              "      <td>Indonesia</td>\n",
              "      <td>2010</td>\n",
              "      <td>415519.989014</td>\n",
              "    </tr>\n",
              "    <tr>\n",
              "      <th>51</th>\n",
              "      <td>IDN</td>\n",
              "      <td>Indonesia</td>\n",
              "      <td>2011</td>\n",
              "      <td>475309.997559</td>\n",
              "    </tr>\n",
              "    <tr>\n",
              "      <th>52</th>\n",
              "      <td>IDN</td>\n",
              "      <td>Indonesia</td>\n",
              "      <td>2012</td>\n",
              "      <td>481510.009766</td>\n",
              "    </tr>\n",
              "    <tr>\n",
              "      <th>53</th>\n",
              "      <td>IDN</td>\n",
              "      <td>Indonesia</td>\n",
              "      <td>2013</td>\n",
              "      <td>447940.002441</td>\n",
              "    </tr>\n",
              "    <tr>\n",
              "      <th>54</th>\n",
              "      <td>IDN</td>\n",
              "      <td>Indonesia</td>\n",
              "      <td>2014</td>\n",
              "      <td>483910.003662</td>\n",
              "    </tr>\n",
              "    <tr>\n",
              "      <th>55</th>\n",
              "      <td>IDN</td>\n",
              "      <td>Indonesia</td>\n",
              "      <td>2015</td>\n",
              "      <td>488549.987793</td>\n",
              "    </tr>\n",
              "    <tr>\n",
              "      <th>56</th>\n",
              "      <td>IDN</td>\n",
              "      <td>Indonesia</td>\n",
              "      <td>2016</td>\n",
              "      <td>482510.009766</td>\n",
              "    </tr>\n",
              "    <tr>\n",
              "      <th>57</th>\n",
              "      <td>IDN</td>\n",
              "      <td>Indonesia</td>\n",
              "      <td>2017</td>\n",
              "      <td>517320.007324</td>\n",
              "    </tr>\n",
              "    <tr>\n",
              "      <th>58</th>\n",
              "      <td>IDN</td>\n",
              "      <td>Indonesia</td>\n",
              "      <td>2018</td>\n",
              "      <td>576989.990234</td>\n",
              "    </tr>\n",
              "    <tr>\n",
              "      <th>59</th>\n",
              "      <td>IDN</td>\n",
              "      <td>Indonesia</td>\n",
              "      <td>2019</td>\n",
              "      <td>619840.026855</td>\n",
              "    </tr>\n",
              "  </tbody>\n",
              "</table>\n",
              "</div>\n",
              "      <button class=\"colab-df-convert\" onclick=\"convertToInteractive('df-bd26a686-3920-4d25-a4b7-c8059e24fc66')\"\n",
              "              title=\"Convert this dataframe to an interactive table.\"\n",
              "              style=\"display:none;\">\n",
              "        \n",
              "  <svg xmlns=\"http://www.w3.org/2000/svg\" height=\"24px\"viewBox=\"0 0 24 24\"\n",
              "       width=\"24px\">\n",
              "    <path d=\"M0 0h24v24H0V0z\" fill=\"none\"/>\n",
              "    <path d=\"M18.56 5.44l.94 2.06.94-2.06 2.06-.94-2.06-.94-.94-2.06-.94 2.06-2.06.94zm-11 1L8.5 8.5l.94-2.06 2.06-.94-2.06-.94L8.5 2.5l-.94 2.06-2.06.94zm10 10l.94 2.06.94-2.06 2.06-.94-2.06-.94-.94-2.06-.94 2.06-2.06.94z\"/><path d=\"M17.41 7.96l-1.37-1.37c-.4-.4-.92-.59-1.43-.59-.52 0-1.04.2-1.43.59L10.3 9.45l-7.72 7.72c-.78.78-.78 2.05 0 2.83L4 21.41c.39.39.9.59 1.41.59.51 0 1.02-.2 1.41-.59l7.78-7.78 2.81-2.81c.8-.78.8-2.07 0-2.86zM5.41 20L4 18.59l7.72-7.72 1.47 1.35L5.41 20z\"/>\n",
              "  </svg>\n",
              "      </button>\n",
              "      \n",
              "  <style>\n",
              "    .colab-df-container {\n",
              "      display:flex;\n",
              "      flex-wrap:wrap;\n",
              "      gap: 12px;\n",
              "    }\n",
              "\n",
              "    .colab-df-convert {\n",
              "      background-color: #E8F0FE;\n",
              "      border: none;\n",
              "      border-radius: 50%;\n",
              "      cursor: pointer;\n",
              "      display: none;\n",
              "      fill: #1967D2;\n",
              "      height: 32px;\n",
              "      padding: 0 0 0 0;\n",
              "      width: 32px;\n",
              "    }\n",
              "\n",
              "    .colab-df-convert:hover {\n",
              "      background-color: #E2EBFA;\n",
              "      box-shadow: 0px 1px 2px rgba(60, 64, 67, 0.3), 0px 1px 3px 1px rgba(60, 64, 67, 0.15);\n",
              "      fill: #174EA6;\n",
              "    }\n",
              "\n",
              "    [theme=dark] .colab-df-convert {\n",
              "      background-color: #3B4455;\n",
              "      fill: #D2E3FC;\n",
              "    }\n",
              "\n",
              "    [theme=dark] .colab-df-convert:hover {\n",
              "      background-color: #434B5C;\n",
              "      box-shadow: 0px 1px 3px 1px rgba(0, 0, 0, 0.15);\n",
              "      filter: drop-shadow(0px 1px 2px rgba(0, 0, 0, 0.3));\n",
              "      fill: #FFFFFF;\n",
              "    }\n",
              "  </style>\n",
              "\n",
              "      <script>\n",
              "        const buttonEl =\n",
              "          document.querySelector('#df-bd26a686-3920-4d25-a4b7-c8059e24fc66 button.colab-df-convert');\n",
              "        buttonEl.style.display =\n",
              "          google.colab.kernel.accessAllowed ? 'block' : 'none';\n",
              "\n",
              "        async function convertToInteractive(key) {\n",
              "          const element = document.querySelector('#df-bd26a686-3920-4d25-a4b7-c8059e24fc66');\n",
              "          const dataTable =\n",
              "            await google.colab.kernel.invokeFunction('convertToInteractive',\n",
              "                                                     [key], {});\n",
              "          if (!dataTable) return;\n",
              "\n",
              "          const docLinkHtml = 'Like what you see? Visit the ' +\n",
              "            '<a target=\"_blank\" href=https://colab.research.google.com/notebooks/data_table.ipynb>data table notebook</a>'\n",
              "            + ' to learn more about interactive tables.';\n",
              "          element.innerHTML = '';\n",
              "          dataTable['output_type'] = 'display_data';\n",
              "          await google.colab.output.renderOutput(dataTable, element);\n",
              "          const docLink = document.createElement('div');\n",
              "          docLink.innerHTML = docLinkHtml;\n",
              "          element.appendChild(docLink);\n",
              "        }\n",
              "      </script>\n",
              "    </div>\n",
              "  </div>\n",
              "  "
            ]
          },
          "metadata": {},
          "execution_count": 146
        }
      ]
    },
    {
      "cell_type": "markdown",
      "source": [
        "Dataset yang saya gunakan berasal dari Kaggle (https://www.kaggle.com/datasets/ulrikthygepedersen/co2-emissions-by-country) mengenai jumlah emisi karbondioksida (CO2) (dalam kiloton(kt)) pada setiap negara di dunia yang terkumpul mulai dari tahun 1960-2019. Kumpulan data emisi CO2 ini mencakup semua negara di dunia dan disusun dari berbagai sumber, termasuk United Nations Framework Convention on Climate Change (UNFCCC) dan International Energy Agency (IEA)."
      ],
      "metadata": {
        "id": "Wq5wF0ihZDh9"
      }
    },
    {
      "cell_type": "markdown",
      "source": [
        "###Menelaah Data"
      ],
      "metadata": {
        "id": "dAD2yE_wXSa_"
      }
    },
    {
      "cell_type": "code",
      "source": [
        "# Mengecek tipe-tipe data dari setiap kolom\n",
        "df.dtypes"
      ],
      "metadata": {
        "colab": {
          "base_uri": "https://localhost:8080/"
        },
        "id": "VgiAi6sWXa9S",
        "outputId": "10bc58a2-91cf-4a4e-e9c7-7f1e42bf7282"
      },
      "execution_count": 147,
      "outputs": [
        {
          "output_type": "execute_result",
          "data": {
            "text/plain": [
              "country_code     object\n",
              "country_name     object\n",
              "year              int64\n",
              "value           float64\n",
              "dtype: object"
            ]
          },
          "metadata": {},
          "execution_count": 147
        }
      ]
    },
    {
      "cell_type": "code",
      "source": [
        "# Mengecek isi data\n",
        "df.info()"
      ],
      "metadata": {
        "colab": {
          "base_uri": "https://localhost:8080/"
        },
        "id": "-TVGIVSy7Yry",
        "outputId": "cdb4d203-9456-411e-b451-7c929de36abc"
      },
      "execution_count": 148,
      "outputs": [
        {
          "output_type": "stream",
          "name": "stdout",
          "text": [
            "<class 'pandas.core.frame.DataFrame'>\n",
            "RangeIndex: 13953 entries, 0 to 13952\n",
            "Data columns (total 4 columns):\n",
            " #   Column        Non-Null Count  Dtype  \n",
            "---  ------        --------------  -----  \n",
            " 0   country_code  13953 non-null  object \n",
            " 1   country_name  13953 non-null  object \n",
            " 2   year          13953 non-null  int64  \n",
            " 3   value         13953 non-null  float64\n",
            "dtypes: float64(1), int64(1), object(2)\n",
            "memory usage: 436.2+ KB\n"
          ]
        }
      ]
    },
    {
      "cell_type": "code",
      "source": [
        "# Menampilkan statistik dasar setiap kolom data yang bertipe numerik pada seluruh dataset\n",
        "df['value'].describe()"
      ],
      "metadata": {
        "colab": {
          "base_uri": "https://localhost:8080/"
        },
        "id": "L-iSrx_LFylM",
        "outputId": "e3a5ebe0-a63b-4a00-be2c-f863f67219d0"
      },
      "execution_count": 149,
      "outputs": [
        {
          "output_type": "execute_result",
          "data": {
            "text/plain": [
              "count    1.395300e+04\n",
              "mean     8.254983e+05\n",
              "std      2.788923e+06\n",
              "min     -8.067400e+01\n",
              "25%      1.100000e+03\n",
              "50%      1.390000e+04\n",
              "75%      1.642779e+05\n",
              "max      3.434401e+07\n",
              "Name: value, dtype: float64"
            ]
          },
          "metadata": {},
          "execution_count": 149
        }
      ]
    },
    {
      "cell_type": "code",
      "source": [
        "# Menampilkan statistik dasar setiap kolom data yang bertipe numerik pada negara Indonesia\n",
        "indonesia_df['value'].describe()"
      ],
      "metadata": {
        "colab": {
          "base_uri": "https://localhost:8080/"
        },
        "id": "zSkWepRCdnwg",
        "outputId": "2a55cb3c-1a00-41ba-8feb-26ee54805987"
      },
      "execution_count": 150,
      "outputs": [
        {
          "output_type": "execute_result",
          "data": {
            "text/plain": [
              "count        60.000000\n",
              "mean     208985.416912\n",
              "std      171471.268313\n",
              "min       21404.279000\n",
              "25%       53287.927250\n",
              "50%      140346.173500\n",
              "75%      341467.491150\n",
              "max      619840.026855\n",
              "Name: value, dtype: float64"
            ]
          },
          "metadata": {},
          "execution_count": 150
        }
      ]
    },
    {
      "cell_type": "markdown",
      "source": [
        "### Fungsi Statistik"
      ],
      "metadata": {
        "id": "uGijf2v9Ys7f"
      }
    },
    {
      "cell_type": "markdown",
      "source": [
        "Menghitung rata-rata (median) dari data"
      ],
      "metadata": {
        "id": "9QilHM9Bca2B"
      }
    },
    {
      "cell_type": "code",
      "source": [
        "# Menampilkan rata-rata jumlah emisi CO2 (dalam kiloton(kt)) dari semua negara di tahun 1960-2019\n",
        "df['value'].mean()"
      ],
      "metadata": {
        "colab": {
          "base_uri": "https://localhost:8080/"
        },
        "id": "sm9t9OORaVa8",
        "outputId": "a3d40ce7-acca-43da-ddd2-d81a020abea2"
      },
      "execution_count": 151,
      "outputs": [
        {
          "output_type": "execute_result",
          "data": {
            "text/plain": [
              "825498.3433543197"
            ]
          },
          "metadata": {},
          "execution_count": 151
        }
      ]
    },
    {
      "cell_type": "code",
      "source": [
        "# Menampilkan rata-rata jumlah emisi CO2 (dalam kiloton(kt)) dari negara Indonesia di tahun 1960-2019\n",
        "indonesia_df['value'].mean()"
      ],
      "metadata": {
        "colab": {
          "base_uri": "https://localhost:8080/"
        },
        "id": "HDNjh6TkbE8r",
        "outputId": "9f14cccd-f701-484d-dff9-8321787ff20d"
      },
      "execution_count": 152,
      "outputs": [
        {
          "output_type": "execute_result",
          "data": {
            "text/plain": [
              "208985.41691230473"
            ]
          },
          "metadata": {},
          "execution_count": 152
        }
      ]
    },
    {
      "cell_type": "markdown",
      "source": [
        "Menghitung jumlah (sum) dari data"
      ],
      "metadata": {
        "id": "vUpw3YOjcgh_"
      }
    },
    {
      "cell_type": "code",
      "source": [
        "#Menampilkan jumlah keseluruhan emisi CO2 (dalam kiloton(kt)) dari semua negara di tahun 1960-2019\n",
        "df['value'].sum()"
      ],
      "metadata": {
        "colab": {
          "base_uri": "https://localhost:8080/"
        },
        "id": "JL-o16RebWmA",
        "outputId": "93d1bdee-3a5b-4d18-dd31-f47196971c67"
      },
      "execution_count": 153,
      "outputs": [
        {
          "output_type": "execute_result",
          "data": {
            "text/plain": [
              "11518178384.822823"
            ]
          },
          "metadata": {},
          "execution_count": 153
        }
      ]
    },
    {
      "cell_type": "code",
      "source": [
        "#Menampilkan jumlah keseluruhan emisi CO2 (dalam kiloton(kt)) dari negara Indonesia di tahun 1960-2019\n",
        "indonesia_df['value'].sum()"
      ],
      "metadata": {
        "colab": {
          "base_uri": "https://localhost:8080/"
        },
        "id": "JQ-iPbQHbq_Q",
        "outputId": "b6f9ce76-99d0-40c4-de06-d8d1955babcb"
      },
      "execution_count": 154,
      "outputs": [
        {
          "output_type": "execute_result",
          "data": {
            "text/plain": [
              "12539125.014738284"
            ]
          },
          "metadata": {},
          "execution_count": 154
        }
      ]
    },
    {
      "cell_type": "markdown",
      "source": [
        "Mencari nilai tengah (median) dari data"
      ],
      "metadata": {
        "id": "6d9FyPMVcn1U"
      }
    },
    {
      "cell_type": "code",
      "source": [
        "#Menampilkan median dari jumlah emisi CO2 (dalam kiloton(kt)) dari semua negara di tahun 1960-2019\n",
        "df['value'].median()"
      ],
      "metadata": {
        "colab": {
          "base_uri": "https://localhost:8080/"
        },
        "id": "GyknUR8Bb4rO",
        "outputId": "2f5d19f4-4b8d-4bb5-ccb1-9c2935f14315"
      },
      "execution_count": 155,
      "outputs": [
        {
          "output_type": "execute_result",
          "data": {
            "text/plain": [
              "13900.0"
            ]
          },
          "metadata": {},
          "execution_count": 155
        }
      ]
    },
    {
      "cell_type": "code",
      "source": [
        "#Menampilkan median dari jumlah emisi CO2 (dalam kiloton(kt)) dari negara Indonesia di tahun 1960-2019\n",
        "indonesia_df['value'].median()"
      ],
      "metadata": {
        "colab": {
          "base_uri": "https://localhost:8080/"
        },
        "id": "mSjUW358cGvj",
        "outputId": "5a73877f-6a0f-4f6e-fca3-4d212a972e2b"
      },
      "execution_count": 156,
      "outputs": [
        {
          "output_type": "execute_result",
          "data": {
            "text/plain": [
              "140346.1735"
            ]
          },
          "metadata": {},
          "execution_count": 156
        }
      ]
    },
    {
      "cell_type": "markdown",
      "source": [
        "Menghitung varians dari data"
      ],
      "metadata": {
        "id": "Ou8oUst0c2FY"
      }
    },
    {
      "cell_type": "code",
      "source": [
        "#Menampilkan varians dari jumlah emisi CO2 (dalam kiloton(kt)) dari semua negara di tahun 1960-2019\n",
        "df['value'].var()"
      ],
      "metadata": {
        "colab": {
          "base_uri": "https://localhost:8080/"
        },
        "id": "qM-6_T3ZdBS9",
        "outputId": "6a576112-24e9-4ab6-a4f6-8f155deea0f4"
      },
      "execution_count": 157,
      "outputs": [
        {
          "output_type": "execute_result",
          "data": {
            "text/plain": [
              "7778092686215.466"
            ]
          },
          "metadata": {},
          "execution_count": 157
        }
      ]
    },
    {
      "cell_type": "code",
      "source": [
        "#Menampilkan varians dari jumlah emisi CO2 (dalam kiloton(kt)) dari negara Indonesia di tahun 1960-2019\n",
        "indonesia_df['value'].var()"
      ],
      "metadata": {
        "colab": {
          "base_uri": "https://localhost:8080/"
        },
        "id": "QPt4B0TBdSEw",
        "outputId": "0cd1e65e-4b9a-47b5-b38c-5130a7cff5a0"
      },
      "execution_count": 158,
      "outputs": [
        {
          "output_type": "execute_result",
          "data": {
            "text/plain": [
              "29402395856.849766"
            ]
          },
          "metadata": {},
          "execution_count": 158
        }
      ]
    },
    {
      "cell_type": "markdown",
      "source": [
        "Menghitung standar deviasi dari data"
      ],
      "metadata": {
        "id": "ZaEZ_xtAeFbY"
      }
    },
    {
      "cell_type": "code",
      "source": [
        "#Menampilkan standar deviasi dari jumlah emisi CO2 (dalam kiloton(kt)) dari semua negara di tahun 1960-2019\n",
        "df['value'].std()"
      ],
      "metadata": {
        "colab": {
          "base_uri": "https://localhost:8080/"
        },
        "id": "djQZwdhJeJJh",
        "outputId": "32d1ca6d-4ed0-4dc1-af30-8ed389e8976e"
      },
      "execution_count": 159,
      "outputs": [
        {
          "output_type": "execute_result",
          "data": {
            "text/plain": [
              "2788923.2126782313"
            ]
          },
          "metadata": {},
          "execution_count": 159
        }
      ]
    },
    {
      "cell_type": "code",
      "source": [
        "#Menampilkan standar deviasi dari jumlah emisi CO2 (dalam kiloton(kt)) dari negara Indonesia di tahun 1960-2019\n",
        "indonesia_df['value'].std()"
      ],
      "metadata": {
        "colab": {
          "base_uri": "https://localhost:8080/"
        },
        "id": "QmPFx2CaeQZU",
        "outputId": "baa3f057-e71f-4d89-c63d-d526e777eb89"
      },
      "execution_count": 160,
      "outputs": [
        {
          "output_type": "execute_result",
          "data": {
            "text/plain": [
              "171471.2683129444"
            ]
          },
          "metadata": {},
          "execution_count": 160
        }
      ]
    },
    {
      "cell_type": "markdown",
      "source": [
        "### Mencari Pencilan (Outlier)"
      ],
      "metadata": {
        "id": "gRI2pAziej9O"
      }
    },
    {
      "cell_type": "markdown",
      "source": [
        "Mencari pencilan dengan 3-Sigma Rule"
      ],
      "metadata": {
        "id": "7gnPbBi2euYb"
      }
    },
    {
      "cell_type": "code",
      "source": [
        "mean = df[['value']].mean()\n",
        "stdev = df[['value']].std()\n",
        "iso = (df[['value']] < mean - 3*stdev) | (df[['value']] > mean + 3*stdev)\n",
        "df1 = df[['year', 'value']].assign(is_outlier=iso)\n",
        "df1.loc[df1['is_outlier']]"
      ],
      "metadata": {
        "colab": {
          "base_uri": "https://localhost:8080/",
          "height": 424
        },
        "id": "xzL822_Le3VC",
        "outputId": "56871fc6-f75d-4319-8bf1-3f1e7c43b510"
      },
      "execution_count": 161,
      "outputs": [
        {
          "output_type": "execute_result",
          "data": {
            "text/plain": [
              "       year         value  is_outlier\n",
              "2151   2011  9.282550e+06        True\n",
              "2152   2012  9.541870e+06        True\n",
              "2153   2013  9.984570e+06        True\n",
              "2154   2014  1.000667e+07        True\n",
              "2155   2015  9.861100e+06        True\n",
              "...     ...           ...         ...\n",
              "13647  2015  3.299554e+07        True\n",
              "13648  2016  3.301856e+07        True\n",
              "13649  2017  3.351454e+07        True\n",
              "13650  2018  3.428935e+07        True\n",
              "13651  2019  3.434401e+07        True\n",
              "\n",
              "[438 rows x 3 columns]"
            ],
            "text/html": [
              "\n",
              "  <div id=\"df-c26b9b79-4e36-455d-a9f4-9de4765759a6\">\n",
              "    <div class=\"colab-df-container\">\n",
              "      <div>\n",
              "<style scoped>\n",
              "    .dataframe tbody tr th:only-of-type {\n",
              "        vertical-align: middle;\n",
              "    }\n",
              "\n",
              "    .dataframe tbody tr th {\n",
              "        vertical-align: top;\n",
              "    }\n",
              "\n",
              "    .dataframe thead th {\n",
              "        text-align: right;\n",
              "    }\n",
              "</style>\n",
              "<table border=\"1\" class=\"dataframe\">\n",
              "  <thead>\n",
              "    <tr style=\"text-align: right;\">\n",
              "      <th></th>\n",
              "      <th>year</th>\n",
              "      <th>value</th>\n",
              "      <th>is_outlier</th>\n",
              "    </tr>\n",
              "  </thead>\n",
              "  <tbody>\n",
              "    <tr>\n",
              "      <th>2151</th>\n",
              "      <td>2011</td>\n",
              "      <td>9.282550e+06</td>\n",
              "      <td>True</td>\n",
              "    </tr>\n",
              "    <tr>\n",
              "      <th>2152</th>\n",
              "      <td>2012</td>\n",
              "      <td>9.541870e+06</td>\n",
              "      <td>True</td>\n",
              "    </tr>\n",
              "    <tr>\n",
              "      <th>2153</th>\n",
              "      <td>2013</td>\n",
              "      <td>9.984570e+06</td>\n",
              "      <td>True</td>\n",
              "    </tr>\n",
              "    <tr>\n",
              "      <th>2154</th>\n",
              "      <td>2014</td>\n",
              "      <td>1.000667e+07</td>\n",
              "      <td>True</td>\n",
              "    </tr>\n",
              "    <tr>\n",
              "      <th>2155</th>\n",
              "      <td>2015</td>\n",
              "      <td>9.861100e+06</td>\n",
              "      <td>True</td>\n",
              "    </tr>\n",
              "    <tr>\n",
              "      <th>...</th>\n",
              "      <td>...</td>\n",
              "      <td>...</td>\n",
              "      <td>...</td>\n",
              "    </tr>\n",
              "    <tr>\n",
              "      <th>13647</th>\n",
              "      <td>2015</td>\n",
              "      <td>3.299554e+07</td>\n",
              "      <td>True</td>\n",
              "    </tr>\n",
              "    <tr>\n",
              "      <th>13648</th>\n",
              "      <td>2016</td>\n",
              "      <td>3.301856e+07</td>\n",
              "      <td>True</td>\n",
              "    </tr>\n",
              "    <tr>\n",
              "      <th>13649</th>\n",
              "      <td>2017</td>\n",
              "      <td>3.351454e+07</td>\n",
              "      <td>True</td>\n",
              "    </tr>\n",
              "    <tr>\n",
              "      <th>13650</th>\n",
              "      <td>2018</td>\n",
              "      <td>3.428935e+07</td>\n",
              "      <td>True</td>\n",
              "    </tr>\n",
              "    <tr>\n",
              "      <th>13651</th>\n",
              "      <td>2019</td>\n",
              "      <td>3.434401e+07</td>\n",
              "      <td>True</td>\n",
              "    </tr>\n",
              "  </tbody>\n",
              "</table>\n",
              "<p>438 rows × 3 columns</p>\n",
              "</div>\n",
              "      <button class=\"colab-df-convert\" onclick=\"convertToInteractive('df-c26b9b79-4e36-455d-a9f4-9de4765759a6')\"\n",
              "              title=\"Convert this dataframe to an interactive table.\"\n",
              "              style=\"display:none;\">\n",
              "        \n",
              "  <svg xmlns=\"http://www.w3.org/2000/svg\" height=\"24px\"viewBox=\"0 0 24 24\"\n",
              "       width=\"24px\">\n",
              "    <path d=\"M0 0h24v24H0V0z\" fill=\"none\"/>\n",
              "    <path d=\"M18.56 5.44l.94 2.06.94-2.06 2.06-.94-2.06-.94-.94-2.06-.94 2.06-2.06.94zm-11 1L8.5 8.5l.94-2.06 2.06-.94-2.06-.94L8.5 2.5l-.94 2.06-2.06.94zm10 10l.94 2.06.94-2.06 2.06-.94-2.06-.94-.94-2.06-.94 2.06-2.06.94z\"/><path d=\"M17.41 7.96l-1.37-1.37c-.4-.4-.92-.59-1.43-.59-.52 0-1.04.2-1.43.59L10.3 9.45l-7.72 7.72c-.78.78-.78 2.05 0 2.83L4 21.41c.39.39.9.59 1.41.59.51 0 1.02-.2 1.41-.59l7.78-7.78 2.81-2.81c.8-.78.8-2.07 0-2.86zM5.41 20L4 18.59l7.72-7.72 1.47 1.35L5.41 20z\"/>\n",
              "  </svg>\n",
              "      </button>\n",
              "      \n",
              "  <style>\n",
              "    .colab-df-container {\n",
              "      display:flex;\n",
              "      flex-wrap:wrap;\n",
              "      gap: 12px;\n",
              "    }\n",
              "\n",
              "    .colab-df-convert {\n",
              "      background-color: #E8F0FE;\n",
              "      border: none;\n",
              "      border-radius: 50%;\n",
              "      cursor: pointer;\n",
              "      display: none;\n",
              "      fill: #1967D2;\n",
              "      height: 32px;\n",
              "      padding: 0 0 0 0;\n",
              "      width: 32px;\n",
              "    }\n",
              "\n",
              "    .colab-df-convert:hover {\n",
              "      background-color: #E2EBFA;\n",
              "      box-shadow: 0px 1px 2px rgba(60, 64, 67, 0.3), 0px 1px 3px 1px rgba(60, 64, 67, 0.15);\n",
              "      fill: #174EA6;\n",
              "    }\n",
              "\n",
              "    [theme=dark] .colab-df-convert {\n",
              "      background-color: #3B4455;\n",
              "      fill: #D2E3FC;\n",
              "    }\n",
              "\n",
              "    [theme=dark] .colab-df-convert:hover {\n",
              "      background-color: #434B5C;\n",
              "      box-shadow: 0px 1px 3px 1px rgba(0, 0, 0, 0.15);\n",
              "      filter: drop-shadow(0px 1px 2px rgba(0, 0, 0, 0.3));\n",
              "      fill: #FFFFFF;\n",
              "    }\n",
              "  </style>\n",
              "\n",
              "      <script>\n",
              "        const buttonEl =\n",
              "          document.querySelector('#df-c26b9b79-4e36-455d-a9f4-9de4765759a6 button.colab-df-convert');\n",
              "        buttonEl.style.display =\n",
              "          google.colab.kernel.accessAllowed ? 'block' : 'none';\n",
              "\n",
              "        async function convertToInteractive(key) {\n",
              "          const element = document.querySelector('#df-c26b9b79-4e36-455d-a9f4-9de4765759a6');\n",
              "          const dataTable =\n",
              "            await google.colab.kernel.invokeFunction('convertToInteractive',\n",
              "                                                     [key], {});\n",
              "          if (!dataTable) return;\n",
              "\n",
              "          const docLinkHtml = 'Like what you see? Visit the ' +\n",
              "            '<a target=\"_blank\" href=https://colab.research.google.com/notebooks/data_table.ipynb>data table notebook</a>'\n",
              "            + ' to learn more about interactive tables.';\n",
              "          element.innerHTML = '';\n",
              "          dataTable['output_type'] = 'display_data';\n",
              "          await google.colab.output.renderOutput(dataTable, element);\n",
              "          const docLink = document.createElement('div');\n",
              "          docLink.innerHTML = docLinkHtml;\n",
              "          element.appendChild(docLink);\n",
              "        }\n",
              "      </script>\n",
              "    </div>\n",
              "  </div>\n",
              "  "
            ]
          },
          "metadata": {},
          "execution_count": 161
        }
      ]
    },
    {
      "cell_type": "markdown",
      "source": [
        "Mencari pencilan dengan Tukey's Fences"
      ],
      "metadata": {
        "id": "jASAzNu6fNo-"
      }
    },
    {
      "cell_type": "code",
      "source": [
        "q1 = df['value'].quantile(0.25)\n",
        "q3 = df['value'].quantile(0.75)\n",
        "iqr = q3 - q1\n",
        "iso = (df[['value']] < q1 - 1.5*iqr) | (df[['value']] > q3 + 1.5*iqr)\n",
        "iseo = (df[['value']] < q1 - 3*iqr) | (df[['value']] > q3 + 3*iqr)\n",
        "df1 = df[['year', 'value']].assign(is_outlier=iso, is_extreme_outlier=iseo)\n",
        "df1.loc[df1['is_outlier'] | df1['is_extreme_outlier']]"
      ],
      "metadata": {
        "colab": {
          "base_uri": "https://localhost:8080/",
          "height": 424
        },
        "id": "JPTZbMbFfTgd",
        "outputId": "641f0ac6-6f1f-4409-d7ad-245706be9182"
      },
      "execution_count": 162,
      "outputs": [
        {
          "output_type": "execute_result",
          "data": {
            "text/plain": [
              "       year          value  is_outlier  is_extreme_outlier\n",
              "100    2003  426379.996829        True               False\n",
              "101    2004  457599.991269        True               False\n",
              "102    2005  458459.994629        True               False\n",
              "103    2006  465440.008163        True               False\n",
              "104    2007  486179.996997        True               False\n",
              "...     ...            ...         ...                 ...\n",
              "13836  2015  424809.997559        True               False\n",
              "13837  2016  425140.014648        True               False\n",
              "13838  2017  435649.993896        True               False\n",
              "13839  2018  434350.006104        True               False\n",
              "13840  2019  439640.014648        True               False\n",
              "\n",
              "[2425 rows x 4 columns]"
            ],
            "text/html": [
              "\n",
              "  <div id=\"df-032a890c-44e2-4965-a180-1372f2237494\">\n",
              "    <div class=\"colab-df-container\">\n",
              "      <div>\n",
              "<style scoped>\n",
              "    .dataframe tbody tr th:only-of-type {\n",
              "        vertical-align: middle;\n",
              "    }\n",
              "\n",
              "    .dataframe tbody tr th {\n",
              "        vertical-align: top;\n",
              "    }\n",
              "\n",
              "    .dataframe thead th {\n",
              "        text-align: right;\n",
              "    }\n",
              "</style>\n",
              "<table border=\"1\" class=\"dataframe\">\n",
              "  <thead>\n",
              "    <tr style=\"text-align: right;\">\n",
              "      <th></th>\n",
              "      <th>year</th>\n",
              "      <th>value</th>\n",
              "      <th>is_outlier</th>\n",
              "      <th>is_extreme_outlier</th>\n",
              "    </tr>\n",
              "  </thead>\n",
              "  <tbody>\n",
              "    <tr>\n",
              "      <th>100</th>\n",
              "      <td>2003</td>\n",
              "      <td>426379.996829</td>\n",
              "      <td>True</td>\n",
              "      <td>False</td>\n",
              "    </tr>\n",
              "    <tr>\n",
              "      <th>101</th>\n",
              "      <td>2004</td>\n",
              "      <td>457599.991269</td>\n",
              "      <td>True</td>\n",
              "      <td>False</td>\n",
              "    </tr>\n",
              "    <tr>\n",
              "      <th>102</th>\n",
              "      <td>2005</td>\n",
              "      <td>458459.994629</td>\n",
              "      <td>True</td>\n",
              "      <td>False</td>\n",
              "    </tr>\n",
              "    <tr>\n",
              "      <th>103</th>\n",
              "      <td>2006</td>\n",
              "      <td>465440.008163</td>\n",
              "      <td>True</td>\n",
              "      <td>False</td>\n",
              "    </tr>\n",
              "    <tr>\n",
              "      <th>104</th>\n",
              "      <td>2007</td>\n",
              "      <td>486179.996997</td>\n",
              "      <td>True</td>\n",
              "      <td>False</td>\n",
              "    </tr>\n",
              "    <tr>\n",
              "      <th>...</th>\n",
              "      <td>...</td>\n",
              "      <td>...</td>\n",
              "      <td>...</td>\n",
              "      <td>...</td>\n",
              "    </tr>\n",
              "    <tr>\n",
              "      <th>13836</th>\n",
              "      <td>2015</td>\n",
              "      <td>424809.997559</td>\n",
              "      <td>True</td>\n",
              "      <td>False</td>\n",
              "    </tr>\n",
              "    <tr>\n",
              "      <th>13837</th>\n",
              "      <td>2016</td>\n",
              "      <td>425140.014648</td>\n",
              "      <td>True</td>\n",
              "      <td>False</td>\n",
              "    </tr>\n",
              "    <tr>\n",
              "      <th>13838</th>\n",
              "      <td>2017</td>\n",
              "      <td>435649.993896</td>\n",
              "      <td>True</td>\n",
              "      <td>False</td>\n",
              "    </tr>\n",
              "    <tr>\n",
              "      <th>13839</th>\n",
              "      <td>2018</td>\n",
              "      <td>434350.006104</td>\n",
              "      <td>True</td>\n",
              "      <td>False</td>\n",
              "    </tr>\n",
              "    <tr>\n",
              "      <th>13840</th>\n",
              "      <td>2019</td>\n",
              "      <td>439640.014648</td>\n",
              "      <td>True</td>\n",
              "      <td>False</td>\n",
              "    </tr>\n",
              "  </tbody>\n",
              "</table>\n",
              "<p>2425 rows × 4 columns</p>\n",
              "</div>\n",
              "      <button class=\"colab-df-convert\" onclick=\"convertToInteractive('df-032a890c-44e2-4965-a180-1372f2237494')\"\n",
              "              title=\"Convert this dataframe to an interactive table.\"\n",
              "              style=\"display:none;\">\n",
              "        \n",
              "  <svg xmlns=\"http://www.w3.org/2000/svg\" height=\"24px\"viewBox=\"0 0 24 24\"\n",
              "       width=\"24px\">\n",
              "    <path d=\"M0 0h24v24H0V0z\" fill=\"none\"/>\n",
              "    <path d=\"M18.56 5.44l.94 2.06.94-2.06 2.06-.94-2.06-.94-.94-2.06-.94 2.06-2.06.94zm-11 1L8.5 8.5l.94-2.06 2.06-.94-2.06-.94L8.5 2.5l-.94 2.06-2.06.94zm10 10l.94 2.06.94-2.06 2.06-.94-2.06-.94-.94-2.06-.94 2.06-2.06.94z\"/><path d=\"M17.41 7.96l-1.37-1.37c-.4-.4-.92-.59-1.43-.59-.52 0-1.04.2-1.43.59L10.3 9.45l-7.72 7.72c-.78.78-.78 2.05 0 2.83L4 21.41c.39.39.9.59 1.41.59.51 0 1.02-.2 1.41-.59l7.78-7.78 2.81-2.81c.8-.78.8-2.07 0-2.86zM5.41 20L4 18.59l7.72-7.72 1.47 1.35L5.41 20z\"/>\n",
              "  </svg>\n",
              "      </button>\n",
              "      \n",
              "  <style>\n",
              "    .colab-df-container {\n",
              "      display:flex;\n",
              "      flex-wrap:wrap;\n",
              "      gap: 12px;\n",
              "    }\n",
              "\n",
              "    .colab-df-convert {\n",
              "      background-color: #E8F0FE;\n",
              "      border: none;\n",
              "      border-radius: 50%;\n",
              "      cursor: pointer;\n",
              "      display: none;\n",
              "      fill: #1967D2;\n",
              "      height: 32px;\n",
              "      padding: 0 0 0 0;\n",
              "      width: 32px;\n",
              "    }\n",
              "\n",
              "    .colab-df-convert:hover {\n",
              "      background-color: #E2EBFA;\n",
              "      box-shadow: 0px 1px 2px rgba(60, 64, 67, 0.3), 0px 1px 3px 1px rgba(60, 64, 67, 0.15);\n",
              "      fill: #174EA6;\n",
              "    }\n",
              "\n",
              "    [theme=dark] .colab-df-convert {\n",
              "      background-color: #3B4455;\n",
              "      fill: #D2E3FC;\n",
              "    }\n",
              "\n",
              "    [theme=dark] .colab-df-convert:hover {\n",
              "      background-color: #434B5C;\n",
              "      box-shadow: 0px 1px 3px 1px rgba(0, 0, 0, 0.15);\n",
              "      filter: drop-shadow(0px 1px 2px rgba(0, 0, 0, 0.3));\n",
              "      fill: #FFFFFF;\n",
              "    }\n",
              "  </style>\n",
              "\n",
              "      <script>\n",
              "        const buttonEl =\n",
              "          document.querySelector('#df-032a890c-44e2-4965-a180-1372f2237494 button.colab-df-convert');\n",
              "        buttonEl.style.display =\n",
              "          google.colab.kernel.accessAllowed ? 'block' : 'none';\n",
              "\n",
              "        async function convertToInteractive(key) {\n",
              "          const element = document.querySelector('#df-032a890c-44e2-4965-a180-1372f2237494');\n",
              "          const dataTable =\n",
              "            await google.colab.kernel.invokeFunction('convertToInteractive',\n",
              "                                                     [key], {});\n",
              "          if (!dataTable) return;\n",
              "\n",
              "          const docLinkHtml = 'Like what you see? Visit the ' +\n",
              "            '<a target=\"_blank\" href=https://colab.research.google.com/notebooks/data_table.ipynb>data table notebook</a>'\n",
              "            + ' to learn more about interactive tables.';\n",
              "          element.innerHTML = '';\n",
              "          dataTable['output_type'] = 'display_data';\n",
              "          await google.colab.output.renderOutput(dataTable, element);\n",
              "          const docLink = document.createElement('div');\n",
              "          docLink.innerHTML = docLinkHtml;\n",
              "          element.appendChild(docLink);\n",
              "        }\n",
              "      </script>\n",
              "    </div>\n",
              "  </div>\n",
              "  "
            ]
          },
          "metadata": {},
          "execution_count": 162
        }
      ]
    },
    {
      "cell_type": "markdown",
      "source": [
        "### Value Counts()"
      ],
      "metadata": {
        "id": "D7djQdSWg8_n"
      }
    },
    {
      "cell_type": "markdown",
      "source": [
        "Value counts() untuk menampilkan frekuensi setiap nilai unik di dalam kolom, yang tertinggi count-nya merupakan modus pada kolom."
      ],
      "metadata": {
        "id": "TmXzy1Z_hY-L"
      }
    },
    {
      "cell_type": "code",
      "source": [
        "df['country_name'].value_counts()"
      ],
      "metadata": {
        "colab": {
          "base_uri": "https://localhost:8080/"
        },
        "id": "6xZ5YisthAiY",
        "outputId": "f044b176-c342-4af6-9ea8-eb6b3b843fd6"
      },
      "execution_count": 163,
      "outputs": [
        {
          "output_type": "execute_result",
          "data": {
            "text/plain": [
              "St. Lucia                    60\n",
              "Haiti                        60\n",
              "Lao PDR                      60\n",
              "Lebanon                      60\n",
              "Liberia                      60\n",
              "                             ..\n",
              "West Bank and Gaza           27\n",
              "Turks and Caicos Islands     27\n",
              "Kosovo                        9\n",
              "Curacao                       5\n",
              "Sint Maarten (Dutch part)     3\n",
              "Name: country_name, Length: 256, dtype: int64"
            ]
          },
          "metadata": {},
          "execution_count": 163
        }
      ]
    },
    {
      "cell_type": "markdown",
      "source": [
        "Karena terdapat beberapa data yang bukan negara (kumpulan dari beberapa negara) dan/atau negara yang memiliki jumlah data tahun kurang dari 60 tahun (dari tahun 1960-2019), maka dihapus saja."
      ],
      "metadata": {
        "id": "fctVYz2oi9Pn"
      }
    },
    {
      "cell_type": "code",
      "source": [
        "# Mendapatkan value counts dari kolom 'country_name'\n",
        "counts = df['country_name'].value_counts()\n",
        "\n",
        "# Memfilter data untuk mendapatkan negara yang memiliki jumlah data 'year' lebih dari 60\n",
        "filtered_counts = counts[counts < 60]\n",
        "\n",
        "# Membuat boolean mask berdasarkan filtered_counts\n",
        "mask = df['country_name'].isin(filtered_counts.index)\n",
        "\n",
        "# Menampilkan data yang telah difilter\n",
        "df_filtered = df[mask]"
      ],
      "metadata": {
        "id": "CzLhuXuMi8sO"
      },
      "execution_count": 164,
      "outputs": []
    },
    {
      "cell_type": "code",
      "source": [
        "df_filtered"
      ],
      "metadata": {
        "colab": {
          "base_uri": "https://localhost:8080/",
          "height": 424
        },
        "id": "7-GiyyVmjsFR",
        "outputId": "666e4b47-f6cf-48e4-e8f7-87ac44f444fb"
      },
      "execution_count": 165,
      "outputs": [
        {
          "output_type": "execute_result",
          "data": {
            "text/plain": [
              "      country_code country_name  year         value\n",
              "0              ABW        Aruba  1960  11092.675000\n",
              "1              ABW        Aruba  1961  11576.719000\n",
              "2              ABW        Aruba  1962  12713.489000\n",
              "3              ABW        Aruba  1963  12178.107000\n",
              "4              ABW        Aruba  1964  11840.743000\n",
              "...            ...          ...   ...           ...\n",
              "13948          ZWE     Zimbabwe  2015  12430.000305\n",
              "13949          ZWE     Zimbabwe  2016  11020.000458\n",
              "13950          ZWE     Zimbabwe  2017  10340.000153\n",
              "13951          ZWE     Zimbabwe  2018  12380.000114\n",
              "13952          ZWE     Zimbabwe  2019  11760.000229\n",
              "\n",
              "[2493 rows x 4 columns]"
            ],
            "text/html": [
              "\n",
              "  <div id=\"df-72cc9e7e-a932-465f-b9fc-9c6b92b11ce9\">\n",
              "    <div class=\"colab-df-container\">\n",
              "      <div>\n",
              "<style scoped>\n",
              "    .dataframe tbody tr th:only-of-type {\n",
              "        vertical-align: middle;\n",
              "    }\n",
              "\n",
              "    .dataframe tbody tr th {\n",
              "        vertical-align: top;\n",
              "    }\n",
              "\n",
              "    .dataframe thead th {\n",
              "        text-align: right;\n",
              "    }\n",
              "</style>\n",
              "<table border=\"1\" class=\"dataframe\">\n",
              "  <thead>\n",
              "    <tr style=\"text-align: right;\">\n",
              "      <th></th>\n",
              "      <th>country_code</th>\n",
              "      <th>country_name</th>\n",
              "      <th>year</th>\n",
              "      <th>value</th>\n",
              "    </tr>\n",
              "  </thead>\n",
              "  <tbody>\n",
              "    <tr>\n",
              "      <th>0</th>\n",
              "      <td>ABW</td>\n",
              "      <td>Aruba</td>\n",
              "      <td>1960</td>\n",
              "      <td>11092.675000</td>\n",
              "    </tr>\n",
              "    <tr>\n",
              "      <th>1</th>\n",
              "      <td>ABW</td>\n",
              "      <td>Aruba</td>\n",
              "      <td>1961</td>\n",
              "      <td>11576.719000</td>\n",
              "    </tr>\n",
              "    <tr>\n",
              "      <th>2</th>\n",
              "      <td>ABW</td>\n",
              "      <td>Aruba</td>\n",
              "      <td>1962</td>\n",
              "      <td>12713.489000</td>\n",
              "    </tr>\n",
              "    <tr>\n",
              "      <th>3</th>\n",
              "      <td>ABW</td>\n",
              "      <td>Aruba</td>\n",
              "      <td>1963</td>\n",
              "      <td>12178.107000</td>\n",
              "    </tr>\n",
              "    <tr>\n",
              "      <th>4</th>\n",
              "      <td>ABW</td>\n",
              "      <td>Aruba</td>\n",
              "      <td>1964</td>\n",
              "      <td>11840.743000</td>\n",
              "    </tr>\n",
              "    <tr>\n",
              "      <th>...</th>\n",
              "      <td>...</td>\n",
              "      <td>...</td>\n",
              "      <td>...</td>\n",
              "      <td>...</td>\n",
              "    </tr>\n",
              "    <tr>\n",
              "      <th>13948</th>\n",
              "      <td>ZWE</td>\n",
              "      <td>Zimbabwe</td>\n",
              "      <td>2015</td>\n",
              "      <td>12430.000305</td>\n",
              "    </tr>\n",
              "    <tr>\n",
              "      <th>13949</th>\n",
              "      <td>ZWE</td>\n",
              "      <td>Zimbabwe</td>\n",
              "      <td>2016</td>\n",
              "      <td>11020.000458</td>\n",
              "    </tr>\n",
              "    <tr>\n",
              "      <th>13950</th>\n",
              "      <td>ZWE</td>\n",
              "      <td>Zimbabwe</td>\n",
              "      <td>2017</td>\n",
              "      <td>10340.000153</td>\n",
              "    </tr>\n",
              "    <tr>\n",
              "      <th>13951</th>\n",
              "      <td>ZWE</td>\n",
              "      <td>Zimbabwe</td>\n",
              "      <td>2018</td>\n",
              "      <td>12380.000114</td>\n",
              "    </tr>\n",
              "    <tr>\n",
              "      <th>13952</th>\n",
              "      <td>ZWE</td>\n",
              "      <td>Zimbabwe</td>\n",
              "      <td>2019</td>\n",
              "      <td>11760.000229</td>\n",
              "    </tr>\n",
              "  </tbody>\n",
              "</table>\n",
              "<p>2493 rows × 4 columns</p>\n",
              "</div>\n",
              "      <button class=\"colab-df-convert\" onclick=\"convertToInteractive('df-72cc9e7e-a932-465f-b9fc-9c6b92b11ce9')\"\n",
              "              title=\"Convert this dataframe to an interactive table.\"\n",
              "              style=\"display:none;\">\n",
              "        \n",
              "  <svg xmlns=\"http://www.w3.org/2000/svg\" height=\"24px\"viewBox=\"0 0 24 24\"\n",
              "       width=\"24px\">\n",
              "    <path d=\"M0 0h24v24H0V0z\" fill=\"none\"/>\n",
              "    <path d=\"M18.56 5.44l.94 2.06.94-2.06 2.06-.94-2.06-.94-.94-2.06-.94 2.06-2.06.94zm-11 1L8.5 8.5l.94-2.06 2.06-.94-2.06-.94L8.5 2.5l-.94 2.06-2.06.94zm10 10l.94 2.06.94-2.06 2.06-.94-2.06-.94-.94-2.06-.94 2.06-2.06.94z\"/><path d=\"M17.41 7.96l-1.37-1.37c-.4-.4-.92-.59-1.43-.59-.52 0-1.04.2-1.43.59L10.3 9.45l-7.72 7.72c-.78.78-.78 2.05 0 2.83L4 21.41c.39.39.9.59 1.41.59.51 0 1.02-.2 1.41-.59l7.78-7.78 2.81-2.81c.8-.78.8-2.07 0-2.86zM5.41 20L4 18.59l7.72-7.72 1.47 1.35L5.41 20z\"/>\n",
              "  </svg>\n",
              "      </button>\n",
              "      \n",
              "  <style>\n",
              "    .colab-df-container {\n",
              "      display:flex;\n",
              "      flex-wrap:wrap;\n",
              "      gap: 12px;\n",
              "    }\n",
              "\n",
              "    .colab-df-convert {\n",
              "      background-color: #E8F0FE;\n",
              "      border: none;\n",
              "      border-radius: 50%;\n",
              "      cursor: pointer;\n",
              "      display: none;\n",
              "      fill: #1967D2;\n",
              "      height: 32px;\n",
              "      padding: 0 0 0 0;\n",
              "      width: 32px;\n",
              "    }\n",
              "\n",
              "    .colab-df-convert:hover {\n",
              "      background-color: #E2EBFA;\n",
              "      box-shadow: 0px 1px 2px rgba(60, 64, 67, 0.3), 0px 1px 3px 1px rgba(60, 64, 67, 0.15);\n",
              "      fill: #174EA6;\n",
              "    }\n",
              "\n",
              "    [theme=dark] .colab-df-convert {\n",
              "      background-color: #3B4455;\n",
              "      fill: #D2E3FC;\n",
              "    }\n",
              "\n",
              "    [theme=dark] .colab-df-convert:hover {\n",
              "      background-color: #434B5C;\n",
              "      box-shadow: 0px 1px 3px 1px rgba(0, 0, 0, 0.15);\n",
              "      filter: drop-shadow(0px 1px 2px rgba(0, 0, 0, 0.3));\n",
              "      fill: #FFFFFF;\n",
              "    }\n",
              "  </style>\n",
              "\n",
              "      <script>\n",
              "        const buttonEl =\n",
              "          document.querySelector('#df-72cc9e7e-a932-465f-b9fc-9c6b92b11ce9 button.colab-df-convert');\n",
              "        buttonEl.style.display =\n",
              "          google.colab.kernel.accessAllowed ? 'block' : 'none';\n",
              "\n",
              "        async function convertToInteractive(key) {\n",
              "          const element = document.querySelector('#df-72cc9e7e-a932-465f-b9fc-9c6b92b11ce9');\n",
              "          const dataTable =\n",
              "            await google.colab.kernel.invokeFunction('convertToInteractive',\n",
              "                                                     [key], {});\n",
              "          if (!dataTable) return;\n",
              "\n",
              "          const docLinkHtml = 'Like what you see? Visit the ' +\n",
              "            '<a target=\"_blank\" href=https://colab.research.google.com/notebooks/data_table.ipynb>data table notebook</a>'\n",
              "            + ' to learn more about interactive tables.';\n",
              "          element.innerHTML = '';\n",
              "          dataTable['output_type'] = 'display_data';\n",
              "          await google.colab.output.renderOutput(dataTable, element);\n",
              "          const docLink = document.createElement('div');\n",
              "          docLink.innerHTML = docLinkHtml;\n",
              "          element.appendChild(docLink);\n",
              "        }\n",
              "      </script>\n",
              "    </div>\n",
              "  </div>\n",
              "  "
            ]
          },
          "metadata": {},
          "execution_count": 165
        }
      ]
    },
    {
      "cell_type": "markdown",
      "source": [
        "### Analisis dengan Groupby"
      ],
      "metadata": {
        "id": "YXgA_KC9ffCu"
      }
    },
    {
      "cell_type": "markdown",
      "source": [
        "Mengelompokkan berdasarkan negara yang telah difilter, kemudian dihitung jumlah emisi CO2 (dalam kiloton(kt)) pada setiap negara"
      ],
      "metadata": {
        "id": "kN8mJCh8gQCu"
      }
    },
    {
      "cell_type": "code",
      "source": [
        "df_filtered.groupby('country_name')['value'].sum()"
      ],
      "metadata": {
        "colab": {
          "base_uri": "https://localhost:8080/"
        },
        "id": "e2F-XrnMtwGW",
        "outputId": "6c61b29b-202d-4d91-cc29-8052ee1ca24f"
      },
      "execution_count": 166,
      "outputs": [
        {
          "output_type": "execute_result",
          "data": {
            "text/plain": [
              "country_name\n",
              "Andorra               1.463000e+04\n",
              "Armenia               1.707600e+05\n",
              "Aruba                 3.698096e+05\n",
              "Azerbaijan            9.798300e+05\n",
              "Belarus               1.852060e+06\n",
              "                          ...     \n",
              "Uzbekistan            3.472670e+06\n",
              "Vanuatu               4.831815e+03\n",
              "West Bank and Gaza    4.736664e+04\n",
              "Zambia                1.887032e+05\n",
              "Zimbabwe              6.252709e+05\n",
              "Name: value, Length: 65, dtype: float64"
            ]
          },
          "metadata": {},
          "execution_count": 166
        }
      ]
    },
    {
      "cell_type": "markdown",
      "source": [
        "Menampilkan urutan jumlah emisi CO2 dari setiap negara yang telah dikelompokkan mulai dari yang terbesar"
      ],
      "metadata": {
        "id": "JF_3O2kfkOdQ"
      }
    },
    {
      "cell_type": "code",
      "source": [
        "df_filtered.groupby('country_name')[['value']].sum().sort_values(by=\"value\", ascending=False)"
      ],
      "metadata": {
        "colab": {
          "base_uri": "https://localhost:8080/",
          "height": 455
        },
        "id": "s40bIV_8gnFu",
        "outputId": "c5266ac8-4e03-4742-d99c-35f4554b5f01"
      },
      "execution_count": 167,
      "outputs": [
        {
          "output_type": "execute_result",
          "data": {
            "text/plain": [
              "                                  value\n",
              "country_name                           \n",
              "Euro area                  7.548864e+07\n",
              "Germany                    2.436702e+07\n",
              "Ukraine                    9.787780e+06\n",
              "Turkiye                    7.654740e+06\n",
              "Kazakhstan                 5.781750e+06\n",
              "...                                 ...\n",
              "Marshall Islands           3.570000e+03\n",
              "Turks and Caicos Islands   3.036276e+03\n",
              "Sint Maarten (Dutch part)  2.145195e+03\n",
              "Kiribati                   2.120060e+03\n",
              "Tuvalu                     3.000000e+02\n",
              "\n",
              "[65 rows x 1 columns]"
            ],
            "text/html": [
              "\n",
              "  <div id=\"df-ec1d6497-0b6b-4f31-90ad-1a63f9ba8a9e\">\n",
              "    <div class=\"colab-df-container\">\n",
              "      <div>\n",
              "<style scoped>\n",
              "    .dataframe tbody tr th:only-of-type {\n",
              "        vertical-align: middle;\n",
              "    }\n",
              "\n",
              "    .dataframe tbody tr th {\n",
              "        vertical-align: top;\n",
              "    }\n",
              "\n",
              "    .dataframe thead th {\n",
              "        text-align: right;\n",
              "    }\n",
              "</style>\n",
              "<table border=\"1\" class=\"dataframe\">\n",
              "  <thead>\n",
              "    <tr style=\"text-align: right;\">\n",
              "      <th></th>\n",
              "      <th>value</th>\n",
              "    </tr>\n",
              "    <tr>\n",
              "      <th>country_name</th>\n",
              "      <th></th>\n",
              "    </tr>\n",
              "  </thead>\n",
              "  <tbody>\n",
              "    <tr>\n",
              "      <th>Euro area</th>\n",
              "      <td>7.548864e+07</td>\n",
              "    </tr>\n",
              "    <tr>\n",
              "      <th>Germany</th>\n",
              "      <td>2.436702e+07</td>\n",
              "    </tr>\n",
              "    <tr>\n",
              "      <th>Ukraine</th>\n",
              "      <td>9.787780e+06</td>\n",
              "    </tr>\n",
              "    <tr>\n",
              "      <th>Turkiye</th>\n",
              "      <td>7.654740e+06</td>\n",
              "    </tr>\n",
              "    <tr>\n",
              "      <th>Kazakhstan</th>\n",
              "      <td>5.781750e+06</td>\n",
              "    </tr>\n",
              "    <tr>\n",
              "      <th>...</th>\n",
              "      <td>...</td>\n",
              "    </tr>\n",
              "    <tr>\n",
              "      <th>Marshall Islands</th>\n",
              "      <td>3.570000e+03</td>\n",
              "    </tr>\n",
              "    <tr>\n",
              "      <th>Turks and Caicos Islands</th>\n",
              "      <td>3.036276e+03</td>\n",
              "    </tr>\n",
              "    <tr>\n",
              "      <th>Sint Maarten (Dutch part)</th>\n",
              "      <td>2.145195e+03</td>\n",
              "    </tr>\n",
              "    <tr>\n",
              "      <th>Kiribati</th>\n",
              "      <td>2.120060e+03</td>\n",
              "    </tr>\n",
              "    <tr>\n",
              "      <th>Tuvalu</th>\n",
              "      <td>3.000000e+02</td>\n",
              "    </tr>\n",
              "  </tbody>\n",
              "</table>\n",
              "<p>65 rows × 1 columns</p>\n",
              "</div>\n",
              "      <button class=\"colab-df-convert\" onclick=\"convertToInteractive('df-ec1d6497-0b6b-4f31-90ad-1a63f9ba8a9e')\"\n",
              "              title=\"Convert this dataframe to an interactive table.\"\n",
              "              style=\"display:none;\">\n",
              "        \n",
              "  <svg xmlns=\"http://www.w3.org/2000/svg\" height=\"24px\"viewBox=\"0 0 24 24\"\n",
              "       width=\"24px\">\n",
              "    <path d=\"M0 0h24v24H0V0z\" fill=\"none\"/>\n",
              "    <path d=\"M18.56 5.44l.94 2.06.94-2.06 2.06-.94-2.06-.94-.94-2.06-.94 2.06-2.06.94zm-11 1L8.5 8.5l.94-2.06 2.06-.94-2.06-.94L8.5 2.5l-.94 2.06-2.06.94zm10 10l.94 2.06.94-2.06 2.06-.94-2.06-.94-.94-2.06-.94 2.06-2.06.94z\"/><path d=\"M17.41 7.96l-1.37-1.37c-.4-.4-.92-.59-1.43-.59-.52 0-1.04.2-1.43.59L10.3 9.45l-7.72 7.72c-.78.78-.78 2.05 0 2.83L4 21.41c.39.39.9.59 1.41.59.51 0 1.02-.2 1.41-.59l7.78-7.78 2.81-2.81c.8-.78.8-2.07 0-2.86zM5.41 20L4 18.59l7.72-7.72 1.47 1.35L5.41 20z\"/>\n",
              "  </svg>\n",
              "      </button>\n",
              "      \n",
              "  <style>\n",
              "    .colab-df-container {\n",
              "      display:flex;\n",
              "      flex-wrap:wrap;\n",
              "      gap: 12px;\n",
              "    }\n",
              "\n",
              "    .colab-df-convert {\n",
              "      background-color: #E8F0FE;\n",
              "      border: none;\n",
              "      border-radius: 50%;\n",
              "      cursor: pointer;\n",
              "      display: none;\n",
              "      fill: #1967D2;\n",
              "      height: 32px;\n",
              "      padding: 0 0 0 0;\n",
              "      width: 32px;\n",
              "    }\n",
              "\n",
              "    .colab-df-convert:hover {\n",
              "      background-color: #E2EBFA;\n",
              "      box-shadow: 0px 1px 2px rgba(60, 64, 67, 0.3), 0px 1px 3px 1px rgba(60, 64, 67, 0.15);\n",
              "      fill: #174EA6;\n",
              "    }\n",
              "\n",
              "    [theme=dark] .colab-df-convert {\n",
              "      background-color: #3B4455;\n",
              "      fill: #D2E3FC;\n",
              "    }\n",
              "\n",
              "    [theme=dark] .colab-df-convert:hover {\n",
              "      background-color: #434B5C;\n",
              "      box-shadow: 0px 1px 3px 1px rgba(0, 0, 0, 0.15);\n",
              "      filter: drop-shadow(0px 1px 2px rgba(0, 0, 0, 0.3));\n",
              "      fill: #FFFFFF;\n",
              "    }\n",
              "  </style>\n",
              "\n",
              "      <script>\n",
              "        const buttonEl =\n",
              "          document.querySelector('#df-ec1d6497-0b6b-4f31-90ad-1a63f9ba8a9e button.colab-df-convert');\n",
              "        buttonEl.style.display =\n",
              "          google.colab.kernel.accessAllowed ? 'block' : 'none';\n",
              "\n",
              "        async function convertToInteractive(key) {\n",
              "          const element = document.querySelector('#df-ec1d6497-0b6b-4f31-90ad-1a63f9ba8a9e');\n",
              "          const dataTable =\n",
              "            await google.colab.kernel.invokeFunction('convertToInteractive',\n",
              "                                                     [key], {});\n",
              "          if (!dataTable) return;\n",
              "\n",
              "          const docLinkHtml = 'Like what you see? Visit the ' +\n",
              "            '<a target=\"_blank\" href=https://colab.research.google.com/notebooks/data_table.ipynb>data table notebook</a>'\n",
              "            + ' to learn more about interactive tables.';\n",
              "          element.innerHTML = '';\n",
              "          dataTable['output_type'] = 'display_data';\n",
              "          await google.colab.output.renderOutput(dataTable, element);\n",
              "          const docLink = document.createElement('div');\n",
              "          docLink.innerHTML = docLinkHtml;\n",
              "          element.appendChild(docLink);\n",
              "        }\n",
              "      </script>\n",
              "    </div>\n",
              "  </div>\n",
              "  "
            ]
          },
          "metadata": {},
          "execution_count": 167
        }
      ]
    },
    {
      "cell_type": "markdown",
      "source": [
        "Menampilkan rata-rata jumlah emisi CO2 dari semua negara di dunia dari tahun 1960-2019"
      ],
      "metadata": {
        "id": "GFnVq3d5xcsF"
      }
    },
    {
      "cell_type": "code",
      "source": [
        "df_mean_by_year = df_filtered.groupby('year')['value'].mean()\n",
        "df_mean_by_year"
      ],
      "metadata": {
        "colab": {
          "base_uri": "https://localhost:8080/"
        },
        "id": "1rpbcN6OxKvZ",
        "outputId": "86927f26-41cb-4dad-a081-a4e2ab865321"
      },
      "execution_count": 168,
      "outputs": [
        {
          "output_type": "execute_result",
          "data": {
            "text/plain": [
              "year\n",
              "1960     2695.856167\n",
              "1961     2614.288923\n",
              "1962     2629.483467\n",
              "1963     2541.918563\n",
              "1964     2394.384318\n",
              "1965     2487.059409\n",
              "1966     2710.413045\n",
              "1967     2977.604000\n",
              "1968     3141.118864\n",
              "1969     3474.649182\n",
              "1970     3682.305739\n",
              "1971     3799.623167\n",
              "1972     3846.536320\n",
              "1973     4243.745760\n",
              "1974     4302.711120\n",
              "1975     4502.929320\n",
              "1976     5491.405840\n",
              "1977     5416.452360\n",
              "1978     5173.256920\n",
              "1979     5160.789120\n",
              "1980     5174.137000\n",
              "1981     5353.379960\n",
              "1982     5690.890640\n",
              "1983     5793.566640\n",
              "1984     6395.981400\n",
              "1985     7026.998760\n",
              "1986     7037.119680\n",
              "1987     7751.597960\n",
              "1988     7780.640600\n",
              "1989     8319.102880\n",
              "1990    91297.717066\n",
              "1991    89792.681262\n",
              "1992    85654.458115\n",
              "1993    81866.516344\n",
              "1994    78736.238148\n",
              "1995    78845.785016\n",
              "1996    79334.088295\n",
              "1997    77999.352410\n",
              "1998    78665.060016\n",
              "1999    77213.256951\n",
              "2000    78022.770836\n",
              "2001    78844.908607\n",
              "2002    79288.594322\n",
              "2003    81450.546218\n",
              "2004    81554.606218\n",
              "2005    81251.277477\n",
              "2006    82369.009631\n",
              "2007    82299.194025\n",
              "2008    80801.824208\n",
              "2009    74670.393464\n",
              "2010    77513.596433\n",
              "2011    76866.036359\n",
              "2012    74169.854424\n",
              "2013    73661.898256\n",
              "2014    69912.443937\n",
              "2015    71083.585155\n",
              "2016    72152.001096\n",
              "2017    93758.750577\n",
              "2018    92515.625952\n",
              "2019    88427.291862\n",
              "Name: value, dtype: float64"
            ]
          },
          "metadata": {},
          "execution_count": 168
        }
      ]
    },
    {
      "cell_type": "markdown",
      "source": [
        "### Korelasi Pearson Antara Kolom-kolom Numerik"
      ],
      "metadata": {
        "id": "IuMosR-Qktfc"
      }
    },
    {
      "cell_type": "code",
      "source": [
        "df.loc[:,'year':].corr()"
      ],
      "metadata": {
        "colab": {
          "base_uri": "https://localhost:8080/",
          "height": 112
        },
        "id": "vX7EEMqgt_Ig",
        "outputId": "fb91cdb8-d9f0-4690-b011-6d013843b3ad"
      },
      "execution_count": 169,
      "outputs": [
        {
          "output_type": "execute_result",
          "data": {
            "text/plain": [
              "           year     value\n",
              "year   1.000000  0.082068\n",
              "value  0.082068  1.000000"
            ],
            "text/html": [
              "\n",
              "  <div id=\"df-67426f9b-cd99-42e0-9db5-a0a6cce8d681\">\n",
              "    <div class=\"colab-df-container\">\n",
              "      <div>\n",
              "<style scoped>\n",
              "    .dataframe tbody tr th:only-of-type {\n",
              "        vertical-align: middle;\n",
              "    }\n",
              "\n",
              "    .dataframe tbody tr th {\n",
              "        vertical-align: top;\n",
              "    }\n",
              "\n",
              "    .dataframe thead th {\n",
              "        text-align: right;\n",
              "    }\n",
              "</style>\n",
              "<table border=\"1\" class=\"dataframe\">\n",
              "  <thead>\n",
              "    <tr style=\"text-align: right;\">\n",
              "      <th></th>\n",
              "      <th>year</th>\n",
              "      <th>value</th>\n",
              "    </tr>\n",
              "  </thead>\n",
              "  <tbody>\n",
              "    <tr>\n",
              "      <th>year</th>\n",
              "      <td>1.000000</td>\n",
              "      <td>0.082068</td>\n",
              "    </tr>\n",
              "    <tr>\n",
              "      <th>value</th>\n",
              "      <td>0.082068</td>\n",
              "      <td>1.000000</td>\n",
              "    </tr>\n",
              "  </tbody>\n",
              "</table>\n",
              "</div>\n",
              "      <button class=\"colab-df-convert\" onclick=\"convertToInteractive('df-67426f9b-cd99-42e0-9db5-a0a6cce8d681')\"\n",
              "              title=\"Convert this dataframe to an interactive table.\"\n",
              "              style=\"display:none;\">\n",
              "        \n",
              "  <svg xmlns=\"http://www.w3.org/2000/svg\" height=\"24px\"viewBox=\"0 0 24 24\"\n",
              "       width=\"24px\">\n",
              "    <path d=\"M0 0h24v24H0V0z\" fill=\"none\"/>\n",
              "    <path d=\"M18.56 5.44l.94 2.06.94-2.06 2.06-.94-2.06-.94-.94-2.06-.94 2.06-2.06.94zm-11 1L8.5 8.5l.94-2.06 2.06-.94-2.06-.94L8.5 2.5l-.94 2.06-2.06.94zm10 10l.94 2.06.94-2.06 2.06-.94-2.06-.94-.94-2.06-.94 2.06-2.06.94z\"/><path d=\"M17.41 7.96l-1.37-1.37c-.4-.4-.92-.59-1.43-.59-.52 0-1.04.2-1.43.59L10.3 9.45l-7.72 7.72c-.78.78-.78 2.05 0 2.83L4 21.41c.39.39.9.59 1.41.59.51 0 1.02-.2 1.41-.59l7.78-7.78 2.81-2.81c.8-.78.8-2.07 0-2.86zM5.41 20L4 18.59l7.72-7.72 1.47 1.35L5.41 20z\"/>\n",
              "  </svg>\n",
              "      </button>\n",
              "      \n",
              "  <style>\n",
              "    .colab-df-container {\n",
              "      display:flex;\n",
              "      flex-wrap:wrap;\n",
              "      gap: 12px;\n",
              "    }\n",
              "\n",
              "    .colab-df-convert {\n",
              "      background-color: #E8F0FE;\n",
              "      border: none;\n",
              "      border-radius: 50%;\n",
              "      cursor: pointer;\n",
              "      display: none;\n",
              "      fill: #1967D2;\n",
              "      height: 32px;\n",
              "      padding: 0 0 0 0;\n",
              "      width: 32px;\n",
              "    }\n",
              "\n",
              "    .colab-df-convert:hover {\n",
              "      background-color: #E2EBFA;\n",
              "      box-shadow: 0px 1px 2px rgba(60, 64, 67, 0.3), 0px 1px 3px 1px rgba(60, 64, 67, 0.15);\n",
              "      fill: #174EA6;\n",
              "    }\n",
              "\n",
              "    [theme=dark] .colab-df-convert {\n",
              "      background-color: #3B4455;\n",
              "      fill: #D2E3FC;\n",
              "    }\n",
              "\n",
              "    [theme=dark] .colab-df-convert:hover {\n",
              "      background-color: #434B5C;\n",
              "      box-shadow: 0px 1px 3px 1px rgba(0, 0, 0, 0.15);\n",
              "      filter: drop-shadow(0px 1px 2px rgba(0, 0, 0, 0.3));\n",
              "      fill: #FFFFFF;\n",
              "    }\n",
              "  </style>\n",
              "\n",
              "      <script>\n",
              "        const buttonEl =\n",
              "          document.querySelector('#df-67426f9b-cd99-42e0-9db5-a0a6cce8d681 button.colab-df-convert');\n",
              "        buttonEl.style.display =\n",
              "          google.colab.kernel.accessAllowed ? 'block' : 'none';\n",
              "\n",
              "        async function convertToInteractive(key) {\n",
              "          const element = document.querySelector('#df-67426f9b-cd99-42e0-9db5-a0a6cce8d681');\n",
              "          const dataTable =\n",
              "            await google.colab.kernel.invokeFunction('convertToInteractive',\n",
              "                                                     [key], {});\n",
              "          if (!dataTable) return;\n",
              "\n",
              "          const docLinkHtml = 'Like what you see? Visit the ' +\n",
              "            '<a target=\"_blank\" href=https://colab.research.google.com/notebooks/data_table.ipynb>data table notebook</a>'\n",
              "            + ' to learn more about interactive tables.';\n",
              "          element.innerHTML = '';\n",
              "          dataTable['output_type'] = 'display_data';\n",
              "          await google.colab.output.renderOutput(dataTable, element);\n",
              "          const docLink = document.createElement('div');\n",
              "          docLink.innerHTML = docLinkHtml;\n",
              "          element.appendChild(docLink);\n",
              "        }\n",
              "      </script>\n",
              "    </div>\n",
              "  </div>\n",
              "  "
            ]
          },
          "metadata": {},
          "execution_count": 169
        }
      ]
    },
    {
      "cell_type": "markdown",
      "source": [
        "## **Visualisasi Data & Insight**"
      ],
      "metadata": {
        "id": "rRF-3q5wljcE"
      }
    },
    {
      "cell_type": "markdown",
      "source": [
        "### Pie Chart"
      ],
      "metadata": {
        "id": "lYvIIKJpoVzS"
      }
    },
    {
      "cell_type": "markdown",
      "source": [
        "Melihat Top 5 Country Penyumbang Jumlah Emisi CO2 Terbesar di Dunia"
      ],
      "metadata": {
        "id": "x32cY3DtnCTQ"
      }
    },
    {
      "cell_type": "code",
      "source": [
        "# Menampilkan top 5 country \n",
        "sums_by_country = df_filtered.groupby('country_name')['value'].sum()\n",
        "sorted_sums = sums_by_country.sort_values(ascending=False)\n",
        "top_5 = sorted_sums.head(5)\n",
        "\n",
        "# Visualisasi\n",
        "plt.figure(figsize=(12,6))\n",
        "fig, ax = plt.subplots()\n",
        "ax.pie(top_5.values, labels=top_5.index, autopct='%1.1f%%')\n",
        "ax.set_title('Top 5 Countries Penyumbang Emisi CO2 Terbesar di Dunia pada Tahun 1960-2019')\n",
        "plt.show()"
      ],
      "metadata": {
        "colab": {
          "base_uri": "https://localhost:8080/",
          "height": 281
        },
        "id": "ScaiVqhk2abr",
        "outputId": "d8ec5627-5d39-4117-f788-56ed9f2849d7"
      },
      "execution_count": 170,
      "outputs": [
        {
          "output_type": "display_data",
          "data": {
            "text/plain": [
              "<Figure size 864x432 with 0 Axes>"
            ]
          },
          "metadata": {}
        },
        {
          "output_type": "display_data",
          "data": {
            "text/plain": [
              "<Figure size 432x288 with 1 Axes>"
            ],
            "image/png": "[encoded data removed]"
          },
          "metadata": {}
        }
      ]
    },
    {
      "cell_type": "markdown",
      "source": [
        "Dari hasil visualisasi di atas, dapat dilihat bahwa Uni Eropa (Euro Area) yang merupakan kumpulan dari negara-negara di benua Eropa tentunya memiliki jumlah buangan emisi CO2 terbesar. Dilanjut dengan Germany di posisi kedua dan seterusnya ada Kazakhstan di posisi kelima."
      ],
      "metadata": {
        "id": "Q0I92YCmoaML"
      }
    },
    {
      "cell_type": "markdown",
      "source": [
        "### Bar Chart"
      ],
      "metadata": {
        "id": "X089tGIvpI4p"
      }
    },
    {
      "cell_type": "markdown",
      "source": [
        "#### Melihat Top Country Penyumbang Jumlah Emisi CO2 Terbesar di Dunia"
      ],
      "metadata": {
        "id": "DpQVQFp2pP4x"
      }
    },
    {
      "cell_type": "code",
      "source": [
        "# Menampilkan top 15 country\n",
        "sums_by_country = df_filtered.groupby('country_name')['value'].sum()\n",
        "sorted_sums = sums_by_country.sort_values(ascending=False)\n",
        "top_15 = sorted_sums.head(15)\n",
        "\n",
        "# Visualisasi\n",
        "x_coords = np.arange(len(top_15))\n",
        "colors = ['#0000FF' for _ in range(len(top_15))]\n",
        "highlight_colors = ['#FF0000' if i in top_15.head().index else '#0000FF' for i in top_15.index]\n",
        "plt.figure(figsize=(12,6))\n",
        "plt.bar(x_coords, top_15, tick_label=top_15.index, color=highlight_colors)\n",
        "plt.xticks(rotation=90) #memutar labels x-axis \n",
        "plt.xlabel('Negara')\n",
        "plt.ylabel('Jumlah Emisi CO2 (Dalam Kiloton)')\n",
        "plt.title('Top Country Penyumbang Jumlah Emisi CO2 Terbesar di Dunia pada Tahun 1960-2019')\n",
        "plt.show()"
      ],
      "metadata": {
        "colab": {
          "base_uri": "https://localhost:8080/",
          "height": 506
        },
        "id": "OPCMFpsXDh01",
        "outputId": "bdc3d8b3-d784-4b74-d1f5-ea93956c9c5a"
      },
      "execution_count": 171,
      "outputs": [
        {
          "output_type": "display_data",
          "data": {
            "text/plain": [
              "<Figure size 864x432 with 1 Axes>"
            ],
            "image/png": "[encoded data removed]"
          },
          "metadata": {
            "needs_background": "light"
          }
        }
      ]
    },
    {
      "cell_type": "markdown",
      "source": [
        "Dari hasil visualisasi di atas menampilkan 15 negara penyumbang emisi CO2 terbesar mulai dari tahun 1960-2019. Dapat dilihat juga 5 besar negara mulai dari Uni Eropa (Euro Area) hingga Kazakhstan di posisi kelima."
      ],
      "metadata": {
        "id": "pSLRCBMkEdHE"
      }
    },
    {
      "cell_type": "markdown",
      "source": [
        "#### Tren Peningkatan Jumlah Emisi CO2 di Indonesia dari Tahun ke Tahun"
      ],
      "metadata": {
        "id": "WQ99USUcphVQ"
      }
    },
    {
      "cell_type": "code",
      "source": [
        "# Menghighlight top 5 year dengan jumlah emisi CO2 terbesar di Indonesia\n",
        "sorted = indonesia_df['value'].sort_values(ascending=False)\n",
        "top_5_year_indo = sorted.head(5)\n",
        "\n",
        "# Visualisasi\n",
        "x_coords = np.arange(len(indonesia_df['country_name']))\n",
        "plt.figure(figsize=(12,6))\n",
        "colors = ['#0000FF' for _ in range(len(indonesia_df))]\n",
        "for i in top_5_year_indo.index:\n",
        "    colors[i] = '#FF0000'\n",
        "plt.title('Tren Peningkatan Jumlah Emisi CO2 di Indonesia dari Tahun 1960-2019')\n",
        "plt.ylabel('Jumlah Emisi CO2')\n",
        "plt.xlabel('Tahun')\n",
        "plt.bar(x_coords, indonesia_df['value'], tick_label=indonesia_df['year'], color=colors)\n",
        "plt.xticks(rotation=90) #memutar labels x-axis \n",
        "plt.show()"
      ],
      "metadata": {
        "colab": {
          "base_uri": "https://localhost:8080/",
          "height": 420
        },
        "id": "ZnoFfCo7-Gco",
        "outputId": "818a7f42-2ed2-4a82-b2e1-4f1374d2eec3"
      },
      "execution_count": 172,
      "outputs": [
        {
          "output_type": "display_data",
          "data": {
            "text/plain": [
              "<Figure size 864x432 with 1 Axes>"
            ],
            "image/png": "[encoded data removed]"
          },
          "metadata": {
            "needs_background": "light"
          }
        }
      ]
    },
    {
      "cell_type": "markdown",
      "source": [
        "Tampak bahwa di Indonesia sendiri selalu terjadi peningkatan dari tahun ke tahun. Namun tidak jarang juga terdapat penurunan walaupun tidak signifikan. Secara keseluruhan di Indonesia sendiri selalu memiliki tren yang naik dalam kurun waktu 1960 hingga 2019. Selisih jumlah emisi CO2 antara tahun 2019 dan 1960 sangat besar sekali sehingga menunjukkan bahwa emisi CO2 di Indonesia sudah tidak terkontrol lagi.\n",
        "\n",
        "\n",
        "Pada tahun 2014, 2015, 2017, 2018, 2019 merupakan tahun dimana Indonesia mencatatkan angka yang paling tinggi pada jumlah emisi CO2 sejak sekitar 60 tahun terakhir."
      ],
      "metadata": {
        "id": "chCY1wOG-zpJ"
      }
    },
    {
      "cell_type": "markdown",
      "source": [
        "#### Perbandingan antara jumlah emisi CO2 di Indonesia dan rata-rata emisi CO2 dari semua negara pada tahun 1960-2019"
      ],
      "metadata": {
        "id": "Apc-ZRd-CQCn"
      }
    },
    {
      "cell_type": "code",
      "source": [
        "plt.figure(figsize=(12,6))\n",
        "# Data\n",
        "x = indonesia_df['year']\n",
        "y1 = indonesia_df['value']\n",
        "y2 = df_mean_by_year\n",
        "\n",
        "# Plot data dan tambahkan label\n",
        "bar_width = 0.4\n",
        "plt.bar(x - bar_width/2, y1, width=bar_width, label='Emisi CO2 di Indonesia')\n",
        "plt.bar(x + bar_width/2, y2, width=bar_width, label='Rata-rata Emisi CO2 Dunia')\n",
        "\n",
        "# Atur judul, label sumbu, dan legend\n",
        "plt.title('Tren Peningkatan Jumlah Emisi CO2 di Indonesia dari Tahun 1960-2019')\n",
        "plt.ylabel('Jumlah Emisi CO2')\n",
        "plt.xlabel('Tahun')\n",
        "plt.legend()\n",
        "\n",
        "# Tampilkan grafik\n",
        "plt.show()"
      ],
      "metadata": {
        "colab": {
          "base_uri": "https://localhost:8080/",
          "height": 404
        },
        "id": "v0sknYmTBRzH",
        "outputId": "8c0e657e-28bb-4943-c9f2-c72514f4d12f"
      },
      "execution_count": 173,
      "outputs": [
        {
          "output_type": "display_data",
          "data": {
            "text/plain": [
              "<Figure size 864x432 with 1 Axes>"
            ],
            "image/png": "[encoded data removed]"
          },
          "metadata": {
            "needs_background": "light"
          }
        }
      ]
    },
    {
      "cell_type": "markdown",
      "source": [
        "Jumlah emisi CO2 di Indonesia tampak memiliki angka yang jauh lebih tinggi dan signifikan dibandingkan dengan rata-rata emisi CO2 dari seluruh negara di dunia yang mana tampak jelas pada rentang sekitar tahun 1990 hingga 2019. "
      ],
      "metadata": {
        "id": "l51mC5VFCebS"
      }
    },
    {
      "cell_type": "markdown",
      "source": [
        "### Line Chart"
      ],
      "metadata": {
        "id": "rlXU277Zxsgq"
      }
    },
    {
      "cell_type": "markdown",
      "source": [
        "#### Tren Peningkatan Jumlah Emisi CO2 di Indonesia dari Tahun ke Tahun"
      ],
      "metadata": {
        "id": "-baWCUbdymfT"
      }
    },
    {
      "cell_type": "code",
      "source": [
        "plt.figure(figsize=(12,6))\n",
        "plt.plot(indonesia_df['year'], indonesia_df['value'])\n",
        "plt.title('Tren Peningkatan Jumlah Emisi CO2 di Indonesia dari Tahun 1960-2019')\n",
        "plt.ylabel('Jumlah Emisi CO2')\n",
        "plt.xlabel('Tahun')\n",
        "plt.show()"
      ],
      "metadata": {
        "colab": {
          "base_uri": "https://localhost:8080/",
          "height": 404
        },
        "id": "mqHSCt8uxxLh",
        "outputId": "29e2dbad-dbe2-4634-a63a-c67e32e96473"
      },
      "execution_count": 174,
      "outputs": [
        {
          "output_type": "display_data",
          "data": {
            "text/plain": [
              "<Figure size 864x432 with 1 Axes>"
            ],
            "image/png": "[encoded data removed]"
          },
          "metadata": {
            "needs_background": "light"
          }
        }
      ]
    },
    {
      "cell_type": "markdown",
      "source": [
        "Tampak bahwa di Indonesia sendiri selalu terjadi peningkatan dari tahun ke tahun. Namun tidak jarang juga terdapat penurunan walaupun tidak signifikan. Secara keseluruhan di Indonesia sendiri selalu memiliki tren yang naik dalam kurun waktu 1960 hingga 2019. Selisih jumlah emisi CO2 antara tahun 2019 dan 1960 sangat besar sekali sehingga menunjukkan bahwa emisi CO2 di Indonesia sudah tidak terkontrol lagi."
      ],
      "metadata": {
        "id": "rfDteTGWzEF8"
      }
    },
    {
      "cell_type": "markdown",
      "source": [
        "#### Korelasi antara jumlah emisi CO2 di Indonesia dan rata-rata emisi CO2 dari semua negara pada tahun 1960-2019"
      ],
      "metadata": {
        "id": "AbZlpwlSypiK"
      }
    },
    {
      "cell_type": "code",
      "source": [
        "plt.figure(figsize=(12,6))\n",
        "# Data\n",
        "x = indonesia_df['year']\n",
        "y1 = indonesia_df['value']\n",
        "y2 = df_mean_by_year\n",
        "\n",
        "# Plot data dan tambahkan label\n",
        "plt.plot(x, y1, label='Emisi CO2 di Indonesia')\n",
        "plt.plot(x, y2, linestyle='--', label='Rata-rata Emisi CO2 Dunia')\n",
        "\n",
        "# Atur judul, label sumbu, dan legend\n",
        "plt.title('Tren Peningkatan Jumlah Emisi CO2 di Indonesia dari Tahun 1960-2019')\n",
        "plt.ylabel('Jumlah Emisi CO2')\n",
        "plt.xlabel('Tahun')\n",
        "plt.legend()\n",
        "\n",
        "# Tampilkan grafik\n",
        "plt.show()"
      ],
      "metadata": {
        "colab": {
          "base_uri": "https://localhost:8080/",
          "height": 404
        },
        "id": "o_y-DdTP2fx4",
        "outputId": "4c939493-5aac-4d5b-f1f8-5d50273f496d"
      },
      "execution_count": 175,
      "outputs": [
        {
          "output_type": "display_data",
          "data": {
            "text/plain": [
              "<Figure size 864x432 with 1 Axes>"
            ],
            "image/png": "[encoded data removed]"
          },
          "metadata": {
            "needs_background": "light"
          }
        }
      ]
    },
    {
      "cell_type": "markdown",
      "source": [
        "Jumlah emisi CO2 di Indonesia tampak memiliki angka yang jauh lebih tinggi dan signifikan dibandingkan dengan rata-rata emisi CO2 dari seluruh negara di dunia yang mana tampak jelas pada rentang sekitar tahun 1990 hingga 2019. "
      ],
      "metadata": {
        "id": "eYD4pQkN0Ade"
      }
    },
    {
      "cell_type": "markdown",
      "source": [
        "## **Kesimpulan**"
      ],
      "metadata": {
        "id": "irwenMbrTRbc"
      }
    },
    {
      "cell_type": "markdown",
      "source": [
        "Berdasarkan dari hasil analisis dan visualisasi yang telah saya lakukan, dapat disimpulkan bahwa mulai dari tahun 1960-2019 di seluruh negara di dunia dan tidak terlepas Indonesia, selalu memiliki tren naik dalam hal jumlah emisi karbondioksida (CO2) dalam kiloton (kt) yang dihasilkan dalam periode tahunan. \n",
        "\n",
        "\n",
        "Peningkatan emisi karbondioksida (CO2) dari tahun 1960 hingga 2019 disebabkan oleh sejumlah faktor, di antaranya pertumbuhan populasi dari yang sekitar 3 miliar pada tahun 1960 menjadi lebih dari 7 miliar pada tahun 2019. Seiring dengan pertumbuhan populasi, ekonomi global juga tumbuh pesat, pembangunan ekonomi memerlukan energi yang lebih banyak, terutama dari bahan bakar fosil yang menghasilkan emisi CO2. Urbanisasi yang menyebabkan peningkatan permintaan akan energi dan transportasi. Pembangunan kota juga dapat menyebabkan deforestasi dan penggunaan lahan yang lebih besar, yang semuanya dapat menyebabkan emisi CO2. Transportasi, termasuk mobil, pesawat, dan kapal, telah berkembang pesat sejak tahun 1960. Penyediaan transportasi yang lebih banyak dan murah telah memungkinkan mobilitas yang lebih tinggi, tetapi juga menyebabkan peningkatan emisi CO2. Kemudian sejak tahun 1960, kebutuhan akan listrik telah meningkat dengan pesat, terutama di negara-negara yang sedang berkembang. \n",
        "\n",
        "Tren ini tentunya akan terus berlanjut ke depan karena pertumbuhan populasi dan ekonomi yang terus berlanjut dan cara yang mungkin bisa menekan adanya jumlah emisi karbondioksida (CO2) ini tentunya adalah dengan beralih ke energi yang ramah lingkungan dan tetap menjaga kelestarian alam sekitar kita.\n",
        "\n",
        "\n",
        "\n"
      ],
      "metadata": {
        "id": "hhC6egCRTX53"
      }
    }
  ]
}