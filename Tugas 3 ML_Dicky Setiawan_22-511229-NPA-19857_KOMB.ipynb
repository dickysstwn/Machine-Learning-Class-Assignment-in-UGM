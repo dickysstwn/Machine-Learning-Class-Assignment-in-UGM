{
  "nbformat": 4,
  "nbformat_minor": 0,
  "metadata": {
    "colab": {
      "provenance": []
    },
    "kernelspec": {
      "name": "python3",
      "display_name": "Python 3"
    },
    "language_info": {
      "name": "python"
    }
  },
  "cells": [
    {
      "cell_type": "markdown",
      "source": [
        "Nama: Dicky Setiawan\n",
        "\n",
        "NIM: 22/511229/NPA/19857\n",
        "\n",
        "Kelas: KOMB\n",
        "\n",
        "# **Tugas Individu 3 - Pembelajaran Mesin**\n",
        "\n",
        "Gunakan Car Evaluation dataset berikut: http://archive.ics.uci.edu/ml/datasets/Car+Evaluation\n",
        "\n",
        "1) Implementasikan ***classification task*** menggunakan ***Decision Tree, Naive Bayes, KNN, dan SVM Classifier*** dari library *sklearn*.  Gunakan ***GridSearchCV*** untuk mendapatkan *hyperparameter* terbaik. \n",
        "\n",
        "2) Bandingkan hasilnya dan analisis model machine learning mana yang menghasilkan performa terbaik *(accuracy, precision, recall, dan F1 score)*\n",
        "\n",
        "3) Kumpulkan link *google drive* (pastikan link ***open***)"
      ],
      "metadata": {
        "id": "Ve1UVPdIDcZe"
      }
    },
    {
      "cell_type": "markdown",
      "source": [
        "## **Data Load**"
      ],
      "metadata": {
        "id": "fFGh8CvIEP3r"
      }
    },
    {
      "cell_type": "code",
      "execution_count": 1,
      "metadata": {
        "id": "PmbAVkrCC_RO"
      },
      "outputs": [],
      "source": [
        "# Mengimpor library\n",
        "\n",
        "import pandas as pd\n",
        "from sklearn.model_selection import train_test_split, GridSearchCV\n",
        "from sklearn.tree import DecisionTreeClassifier\n",
        "from sklearn.naive_bayes import GaussianNB\n",
        "from sklearn.neighbors import KNeighborsClassifier\n",
        "from sklearn.svm import SVC\n",
        "from sklearn.metrics import accuracy_score, precision_score, recall_score, f1_score"
      ]
    },
    {
      "cell_type": "code",
      "source": [
        "# Menghubungkan Google Drive dan Google Colab\n",
        "from google.colab import drive\n",
        "drive.mount('/content/gdrive')\n",
        "\n",
        "# Mengambil dataset\n",
        "dataset = '/content/gdrive/MyDrive/car.data'\n",
        "df = pd.read_csv(dataset, header=None)"
      ],
      "metadata": {
        "colab": {
          "base_uri": "https://localhost:8080/"
        },
        "id": "EQHUAEKQFCnp",
        "outputId": "b5465776-8359-45ab-fe6b-a74fe7dfdaf0"
      },
      "execution_count": 2,
      "outputs": [
        {
          "output_type": "stream",
          "name": "stdout",
          "text": [
            "Mounted at /content/gdrive\n"
          ]
        }
      ]
    },
    {
      "cell_type": "code",
      "source": [
        "# Mengganti nama column/atribut\n",
        "\n",
        "col_names = ['buying', 'maint', 'doors', 'persons', 'lug_boot', 'safety', 'class']\n",
        "df.columns = col_names\n",
        "col_names"
      ],
      "metadata": {
        "colab": {
          "base_uri": "https://localhost:8080/"
        },
        "id": "anu7nuqWFClE",
        "outputId": "375ebe87-8632-4cef-a74b-60820348e2e6"
      },
      "execution_count": 3,
      "outputs": [
        {
          "output_type": "execute_result",
          "data": {
            "text/plain": [
              "['buying', 'maint', 'doors', 'persons', 'lug_boot', 'safety', 'class']"
            ]
          },
          "metadata": {},
          "execution_count": 3
        }
      ]
    },
    {
      "cell_type": "code",
      "source": [
        "# Menampilkan isi dataset secara keseluruhan\n",
        "\n",
        "df"
      ],
      "metadata": {
        "colab": {
          "base_uri": "https://localhost:8080/",
          "height": 424
        },
        "id": "LOWOYAE6FOu6",
        "outputId": "315cc281-33b0-4282-a6d9-95989cbd494a"
      },
      "execution_count": 4,
      "outputs": [
        {
          "output_type": "execute_result",
          "data": {
            "text/plain": [
              "     buying  maint  doors persons lug_boot safety  class\n",
              "0     vhigh  vhigh      2       2    small    low  unacc\n",
              "1     vhigh  vhigh      2       2    small    med  unacc\n",
              "2     vhigh  vhigh      2       2    small   high  unacc\n",
              "3     vhigh  vhigh      2       2      med    low  unacc\n",
              "4     vhigh  vhigh      2       2      med    med  unacc\n",
              "...     ...    ...    ...     ...      ...    ...    ...\n",
              "1723    low    low  5more    more      med    med   good\n",
              "1724    low    low  5more    more      med   high  vgood\n",
              "1725    low    low  5more    more      big    low  unacc\n",
              "1726    low    low  5more    more      big    med   good\n",
              "1727    low    low  5more    more      big   high  vgood\n",
              "\n",
              "[1728 rows x 7 columns]"
            ],
            "text/html": [
              "\n",
              "  <div id=\"df-35be4f3f-5eaa-4041-af85-012a7dd58a97\">\n",
              "    <div class=\"colab-df-container\">\n",
              "      <div>\n",
              "<style scoped>\n",
              "    .dataframe tbody tr th:only-of-type {\n",
              "        vertical-align: middle;\n",
              "    }\n",
              "\n",
              "    .dataframe tbody tr th {\n",
              "        vertical-align: top;\n",
              "    }\n",
              "\n",
              "    .dataframe thead th {\n",
              "        text-align: right;\n",
              "    }\n",
              "</style>\n",
              "<table border=\"1\" class=\"dataframe\">\n",
              "  <thead>\n",
              "    <tr style=\"text-align: right;\">\n",
              "      <th></th>\n",
              "      <th>buying</th>\n",
              "      <th>maint</th>\n",
              "      <th>doors</th>\n",
              "      <th>persons</th>\n",
              "      <th>lug_boot</th>\n",
              "      <th>safety</th>\n",
              "      <th>class</th>\n",
              "    </tr>\n",
              "  </thead>\n",
              "  <tbody>\n",
              "    <tr>\n",
              "      <th>0</th>\n",
              "      <td>vhigh</td>\n",
              "      <td>vhigh</td>\n",
              "      <td>2</td>\n",
              "      <td>2</td>\n",
              "      <td>small</td>\n",
              "      <td>low</td>\n",
              "      <td>unacc</td>\n",
              "    </tr>\n",
              "    <tr>\n",
              "      <th>1</th>\n",
              "      <td>vhigh</td>\n",
              "      <td>vhigh</td>\n",
              "      <td>2</td>\n",
              "      <td>2</td>\n",
              "      <td>small</td>\n",
              "      <td>med</td>\n",
              "      <td>unacc</td>\n",
              "    </tr>\n",
              "    <tr>\n",
              "      <th>2</th>\n",
              "      <td>vhigh</td>\n",
              "      <td>vhigh</td>\n",
              "      <td>2</td>\n",
              "      <td>2</td>\n",
              "      <td>small</td>\n",
              "      <td>high</td>\n",
              "      <td>unacc</td>\n",
              "    </tr>\n",
              "    <tr>\n",
              "      <th>3</th>\n",
              "      <td>vhigh</td>\n",
              "      <td>vhigh</td>\n",
              "      <td>2</td>\n",
              "      <td>2</td>\n",
              "      <td>med</td>\n",
              "      <td>low</td>\n",
              "      <td>unacc</td>\n",
              "    </tr>\n",
              "    <tr>\n",
              "      <th>4</th>\n",
              "      <td>vhigh</td>\n",
              "      <td>vhigh</td>\n",
              "      <td>2</td>\n",
              "      <td>2</td>\n",
              "      <td>med</td>\n",
              "      <td>med</td>\n",
              "      <td>unacc</td>\n",
              "    </tr>\n",
              "    <tr>\n",
              "      <th>...</th>\n",
              "      <td>...</td>\n",
              "      <td>...</td>\n",
              "      <td>...</td>\n",
              "      <td>...</td>\n",
              "      <td>...</td>\n",
              "      <td>...</td>\n",
              "      <td>...</td>\n",
              "    </tr>\n",
              "    <tr>\n",
              "      <th>1723</th>\n",
              "      <td>low</td>\n",
              "      <td>low</td>\n",
              "      <td>5more</td>\n",
              "      <td>more</td>\n",
              "      <td>med</td>\n",
              "      <td>med</td>\n",
              "      <td>good</td>\n",
              "    </tr>\n",
              "    <tr>\n",
              "      <th>1724</th>\n",
              "      <td>low</td>\n",
              "      <td>low</td>\n",
              "      <td>5more</td>\n",
              "      <td>more</td>\n",
              "      <td>med</td>\n",
              "      <td>high</td>\n",
              "      <td>vgood</td>\n",
              "    </tr>\n",
              "    <tr>\n",
              "      <th>1725</th>\n",
              "      <td>low</td>\n",
              "      <td>low</td>\n",
              "      <td>5more</td>\n",
              "      <td>more</td>\n",
              "      <td>big</td>\n",
              "      <td>low</td>\n",
              "      <td>unacc</td>\n",
              "    </tr>\n",
              "    <tr>\n",
              "      <th>1726</th>\n",
              "      <td>low</td>\n",
              "      <td>low</td>\n",
              "      <td>5more</td>\n",
              "      <td>more</td>\n",
              "      <td>big</td>\n",
              "      <td>med</td>\n",
              "      <td>good</td>\n",
              "    </tr>\n",
              "    <tr>\n",
              "      <th>1727</th>\n",
              "      <td>low</td>\n",
              "      <td>low</td>\n",
              "      <td>5more</td>\n",
              "      <td>more</td>\n",
              "      <td>big</td>\n",
              "      <td>high</td>\n",
              "      <td>vgood</td>\n",
              "    </tr>\n",
              "  </tbody>\n",
              "</table>\n",
              "<p>1728 rows × 7 columns</p>\n",
              "</div>\n",
              "      <button class=\"colab-df-convert\" onclick=\"convertToInteractive('df-35be4f3f-5eaa-4041-af85-012a7dd58a97')\"\n",
              "              title=\"Convert this dataframe to an interactive table.\"\n",
              "              style=\"display:none;\">\n",
              "        \n",
              "  <svg xmlns=\"http://www.w3.org/2000/svg\" height=\"24px\"viewBox=\"0 0 24 24\"\n",
              "       width=\"24px\">\n",
              "    <path d=\"M0 0h24v24H0V0z\" fill=\"none\"/>\n",
              "    <path d=\"M18.56 5.44l.94 2.06.94-2.06 2.06-.94-2.06-.94-.94-2.06-.94 2.06-2.06.94zm-11 1L8.5 8.5l.94-2.06 2.06-.94-2.06-.94L8.5 2.5l-.94 2.06-2.06.94zm10 10l.94 2.06.94-2.06 2.06-.94-2.06-.94-.94-2.06-.94 2.06-2.06.94z\"/><path d=\"M17.41 7.96l-1.37-1.37c-.4-.4-.92-.59-1.43-.59-.52 0-1.04.2-1.43.59L10.3 9.45l-7.72 7.72c-.78.78-.78 2.05 0 2.83L4 21.41c.39.39.9.59 1.41.59.51 0 1.02-.2 1.41-.59l7.78-7.78 2.81-2.81c.8-.78.8-2.07 0-2.86zM5.41 20L4 18.59l7.72-7.72 1.47 1.35L5.41 20z\"/>\n",
              "  </svg>\n",
              "      </button>\n",
              "      \n",
              "  <style>\n",
              "    .colab-df-container {\n",
              "      display:flex;\n",
              "      flex-wrap:wrap;\n",
              "      gap: 12px;\n",
              "    }\n",
              "\n",
              "    .colab-df-convert {\n",
              "      background-color: #E8F0FE;\n",
              "      border: none;\n",
              "      border-radius: 50%;\n",
              "      cursor: pointer;\n",
              "      display: none;\n",
              "      fill: #1967D2;\n",
              "      height: 32px;\n",
              "      padding: 0 0 0 0;\n",
              "      width: 32px;\n",
              "    }\n",
              "\n",
              "    .colab-df-convert:hover {\n",
              "      background-color: #E2EBFA;\n",
              "      box-shadow: 0px 1px 2px rgba(60, 64, 67, 0.3), 0px 1px 3px 1px rgba(60, 64, 67, 0.15);\n",
              "      fill: #174EA6;\n",
              "    }\n",
              "\n",
              "    [theme=dark] .colab-df-convert {\n",
              "      background-color: #3B4455;\n",
              "      fill: #D2E3FC;\n",
              "    }\n",
              "\n",
              "    [theme=dark] .colab-df-convert:hover {\n",
              "      background-color: #434B5C;\n",
              "      box-shadow: 0px 1px 3px 1px rgba(0, 0, 0, 0.15);\n",
              "      filter: drop-shadow(0px 1px 2px rgba(0, 0, 0, 0.3));\n",
              "      fill: #FFFFFF;\n",
              "    }\n",
              "  </style>\n",
              "\n",
              "      <script>\n",
              "        const buttonEl =\n",
              "          document.querySelector('#df-35be4f3f-5eaa-4041-af85-012a7dd58a97 button.colab-df-convert');\n",
              "        buttonEl.style.display =\n",
              "          google.colab.kernel.accessAllowed ? 'block' : 'none';\n",
              "\n",
              "        async function convertToInteractive(key) {\n",
              "          const element = document.querySelector('#df-35be4f3f-5eaa-4041-af85-012a7dd58a97');\n",
              "          const dataTable =\n",
              "            await google.colab.kernel.invokeFunction('convertToInteractive',\n",
              "                                                     [key], {});\n",
              "          if (!dataTable) return;\n",
              "\n",
              "          const docLinkHtml = 'Like what you see? Visit the ' +\n",
              "            '<a target=\"_blank\" href=https://colab.research.google.com/notebooks/data_table.ipynb>data table notebook</a>'\n",
              "            + ' to learn more about interactive tables.';\n",
              "          element.innerHTML = '';\n",
              "          dataTable['output_type'] = 'display_data';\n",
              "          await google.colab.output.renderOutput(dataTable, element);\n",
              "          const docLink = document.createElement('div');\n",
              "          docLink.innerHTML = docLinkHtml;\n",
              "          element.appendChild(docLink);\n",
              "        }\n",
              "      </script>\n",
              "    </div>\n",
              "  </div>\n",
              "  "
            ]
          },
          "metadata": {},
          "execution_count": 4
        }
      ]
    },
    {
      "cell_type": "code",
      "source": [
        "df.info()"
      ],
      "metadata": {
        "colab": {
          "base_uri": "https://localhost:8080/"
        },
        "id": "034q6XdgFULD",
        "outputId": "eb4accea-eacf-4eb0-e588-129c0664fdb0"
      },
      "execution_count": 5,
      "outputs": [
        {
          "output_type": "stream",
          "name": "stdout",
          "text": [
            "<class 'pandas.core.frame.DataFrame'>\n",
            "RangeIndex: 1728 entries, 0 to 1727\n",
            "Data columns (total 7 columns):\n",
            " #   Column    Non-Null Count  Dtype \n",
            "---  ------    --------------  ----- \n",
            " 0   buying    1728 non-null   object\n",
            " 1   maint     1728 non-null   object\n",
            " 2   doors     1728 non-null   object\n",
            " 3   persons   1728 non-null   object\n",
            " 4   lug_boot  1728 non-null   object\n",
            " 5   safety    1728 non-null   object\n",
            " 6   class     1728 non-null   object\n",
            "dtypes: object(7)\n",
            "memory usage: 94.6+ KB\n"
          ]
        }
      ]
    },
    {
      "cell_type": "code",
      "source": [
        "# Mengecek missing value\n",
        "\n",
        "df.isnull().sum()"
      ],
      "metadata": {
        "colab": {
          "base_uri": "https://localhost:8080/"
        },
        "id": "nWwH_bhLFXmI",
        "outputId": "b030e031-5da6-4796-f247-b3205aabaeb7"
      },
      "execution_count": 6,
      "outputs": [
        {
          "output_type": "execute_result",
          "data": {
            "text/plain": [
              "buying      0\n",
              "maint       0\n",
              "doors       0\n",
              "persons     0\n",
              "lug_boot    0\n",
              "safety      0\n",
              "class       0\n",
              "dtype: int64"
            ]
          },
          "metadata": {},
          "execution_count": 6
        }
      ]
    },
    {
      "cell_type": "markdown",
      "source": [
        "## **Nomor 1**\n",
        "\n",
        "Implementasikan ***classification task*** menggunakan ***Decision Tree, Naive Bayes, KNN, dan SVM Classifier*** dari library *sklearn*.  Gunakan ***GridSearchCV*** untuk mendapatkan *hyperparameter* terbaik. "
      ],
      "metadata": {
        "id": "0kos2w3YFi5P"
      }
    },
    {
      "cell_type": "code",
      "source": [
        "# Membagi antara fitur dan target\n",
        "X = df.drop(\"class\", axis=1)\n",
        "y = df[\"class\"]\n",
        "\n",
        "# Menampilkan isi variabel X dan y\n",
        "print(X.head())\n",
        "print(y.head())"
      ],
      "metadata": {
        "colab": {
          "base_uri": "https://localhost:8080/"
        },
        "id": "mTDOb4aWFlVt",
        "outputId": "48508534-be86-431f-e95e-68d89b96a6b4"
      },
      "execution_count": 8,
      "outputs": [
        {
          "output_type": "stream",
          "name": "stdout",
          "text": [
            "  buying  maint doors persons lug_boot safety\n",
            "0  vhigh  vhigh     2       2    small    low\n",
            "1  vhigh  vhigh     2       2    small    med\n",
            "2  vhigh  vhigh     2       2    small   high\n",
            "3  vhigh  vhigh     2       2      med    low\n",
            "4  vhigh  vhigh     2       2      med    med\n",
            "0    unacc\n",
            "1    unacc\n",
            "2    unacc\n",
            "3    unacc\n",
            "4    unacc\n",
            "Name: class, dtype: object\n"
          ]
        }
      ]
    },
    {
      "cell_type": "code",
      "source": [
        "# Mengubah fitur kategorikal menjadi numerik menggunakan one-hot encoding\n",
        "X = pd.get_dummies(X)\n",
        "\n",
        "# Menampilkan isi dataset X setelah one-hot encoding\n",
        "print(X.head())"
      ],
      "metadata": {
        "colab": {
          "base_uri": "https://localhost:8080/"
        },
        "id": "oyQN2JjRGJPH",
        "outputId": "fb5e55a9-ac7d-4217-881c-4c3c92bbb24e"
      },
      "execution_count": 9,
      "outputs": [
        {
          "output_type": "stream",
          "name": "stdout",
          "text": [
            "   buying_high  buying_low  buying_med  buying_vhigh  maint_high  maint_low  \\\n",
            "0            0           0           0             1           0          0   \n",
            "1            0           0           0             1           0          0   \n",
            "2            0           0           0             1           0          0   \n",
            "3            0           0           0             1           0          0   \n",
            "4            0           0           0             1           0          0   \n",
            "\n",
            "   maint_med  maint_vhigh  doors_2  doors_3  ...  doors_5more  persons_2  \\\n",
            "0          0            1        1        0  ...            0          1   \n",
            "1          0            1        1        0  ...            0          1   \n",
            "2          0            1        1        0  ...            0          1   \n",
            "3          0            1        1        0  ...            0          1   \n",
            "4          0            1        1        0  ...            0          1   \n",
            "\n",
            "   persons_4  persons_more  lug_boot_big  lug_boot_med  lug_boot_small  \\\n",
            "0          0             0             0             0               1   \n",
            "1          0             0             0             0               1   \n",
            "2          0             0             0             0               1   \n",
            "3          0             0             0             1               0   \n",
            "4          0             0             0             1               0   \n",
            "\n",
            "   safety_high  safety_low  safety_med  \n",
            "0            0           1           0  \n",
            "1            0           0           1  \n",
            "2            1           0           0  \n",
            "3            0           1           0  \n",
            "4            0           0           1  \n",
            "\n",
            "[5 rows x 21 columns]\n"
          ]
        }
      ]
    },
    {
      "cell_type": "code",
      "source": [
        "# Membagi dataset menjadi data train dan data test\n",
        "X_train, X_test, y_train, y_test = train_test_split(X, y, test_size=0.2, random_state=42)\n",
        "\n",
        "# Menampilkan dimensi data train dan data test\n",
        "print(\"Dimensi X_train:\", X_train.shape)\n",
        "print(\"Dimensi X_test:\", X_test.shape)\n",
        "print(\"Dimensi y_train:\", y_train.shape)\n",
        "print(\"Dimensi y_test:\", y_test.shape)"
      ],
      "metadata": {
        "colab": {
          "base_uri": "https://localhost:8080/"
        },
        "id": "aQXAoCjwGdhK",
        "outputId": "ec8c8fad-582e-47d8-993c-fa10b2d82a8f"
      },
      "execution_count": 10,
      "outputs": [
        {
          "output_type": "stream",
          "name": "stdout",
          "text": [
            "Dimensi X_train: (1382, 21)\n",
            "Dimensi X_test: (346, 21)\n",
            "Dimensi y_train: (1382,)\n",
            "Dimensi y_test: (346,)\n"
          ]
        }
      ]
    },
    {
      "cell_type": "markdown",
      "source": [
        "### **Decision Tree**"
      ],
      "metadata": {
        "id": "sVLPRtxwGz63"
      }
    },
    {
      "cell_type": "code",
      "source": [
        "# Membuat objek DecisionTreeClassifier\n",
        "dt_classifier = DecisionTreeClassifier(random_state=42)\n",
        "\n",
        "# Menentukan hyperparameter yang akan diuji\n",
        "dt_params = {'max_depth': [None, 5, 10, 15, 20], 'min_samples_split': [2, 5, 10]}\n",
        "\n",
        "# Membuat objek GridSearchCV\n",
        "dt_grid = GridSearchCV(dt_classifier, dt_params, cv=5)\n",
        "\n",
        "# Melatih model dengan data latih\n",
        "dt_grid.fit(X_train, y_train)\n",
        "\n",
        "# Mendapatkan parameter terbaik yang ditemukan oleh GridSearchCV\n",
        "dt_best_params = dt_grid.best_params_\n",
        "\n",
        "# Menampilkan parameter terbaik\n",
        "print(dt_best_params)"
      ],
      "metadata": {
        "colab": {
          "base_uri": "https://localhost:8080/"
        },
        "id": "fPntgx9VIsBn",
        "outputId": "e904c187-7a3a-4815-81cc-83e0b065e823"
      },
      "execution_count": 19,
      "outputs": [
        {
          "output_type": "stream",
          "name": "stdout",
          "text": [
            "{'max_depth': 10, 'min_samples_split': 2}\n"
          ]
        }
      ]
    },
    {
      "cell_type": "code",
      "source": [
        "# Membuat objek DecisionTreeClassifier dengan parameter terbaik\n",
        "dt_classifier = DecisionTreeClassifier(random_state=42, max_depth=dt_best_params['max_depth'], min_samples_split=dt_best_params['min_samples_split'])\n",
        "\n",
        "# Melatih model dengan data train\n",
        "dt_classifier.fit(X_train, y_train)\n",
        "\n",
        "# Menampilkan parameter terbaik\n",
        "print(\"Best parameters:\", dt_best_params)\n",
        "\n",
        "# Menampilkan parameter model yang digunakan\n",
        "print(\"Model parameters:\", dt_classifier.get_params())"
      ],
      "metadata": {
        "colab": {
          "base_uri": "https://localhost:8080/"
        },
        "id": "24PcYCufIK2l",
        "outputId": "2a0617ee-5ee8-4eeb-c430-26921365bc72"
      },
      "execution_count": 20,
      "outputs": [
        {
          "output_type": "stream",
          "name": "stdout",
          "text": [
            "Best parameters: {'max_depth': 10, 'min_samples_split': 2}\n",
            "Model parameters: {'ccp_alpha': 0.0, 'class_weight': None, 'criterion': 'gini', 'max_depth': 10, 'max_features': None, 'max_leaf_nodes': None, 'min_impurity_decrease': 0.0, 'min_samples_leaf': 1, 'min_samples_split': 2, 'min_weight_fraction_leaf': 0.0, 'random_state': 42, 'splitter': 'best'}\n"
          ]
        }
      ]
    },
    {
      "cell_type": "markdown",
      "source": [
        "### **Naive Bayes**"
      ],
      "metadata": {
        "id": "R_9wQ8GhHZhN"
      }
    },
    {
      "cell_type": "code",
      "source": [
        "# Membuat objek Gaussian Naive Bayes\n",
        "nb_classifier = GaussianNB()\n",
        "\n",
        "# Melatih model dengan data train\n",
        "nb_classifier.fit(X_train, y_train)\n",
        "\n",
        "# Menampilkan informasi model Naive Bayes\n",
        "print(nb_classifier)\n",
        "print(nb_classifier.get_params())"
      ],
      "metadata": {
        "colab": {
          "base_uri": "https://localhost:8080/"
        },
        "id": "GmqmETwrHeFy",
        "outputId": "a8902464-de45-41e9-de21-d8592539da6b"
      },
      "execution_count": 12,
      "outputs": [
        {
          "output_type": "stream",
          "name": "stdout",
          "text": [
            "GaussianNB()\n",
            "{'priors': None, 'var_smoothing': 1e-09}\n"
          ]
        }
      ]
    },
    {
      "cell_type": "markdown",
      "source": [
        "### **KNN**"
      ],
      "metadata": {
        "id": "GfHE_oh9HqGb"
      }
    },
    {
      "cell_type": "code",
      "source": [
        "# Membuat objek KNeighborsClassifier\n",
        "knn_classifier = KNeighborsClassifier()\n",
        "\n",
        "# Menentukan hyperparameter yang akan diuji\n",
        "knn_params = {'n_neighbors': [3, 5, 7, 9]}\n",
        "\n",
        "# Membuat objek GridSearchCV\n",
        "knn_grid = GridSearchCV(knn_classifier, knn_params, cv=5)\n",
        "\n",
        "# Melatih model dengan data train\n",
        "knn_grid.fit(X_train, y_train)\n",
        "\n",
        "# Mendapatkan parameter terbaik yang ditemukan oleh GridSearchCV\n",
        "knn_best_params = knn_grid.best_params_\n",
        "\n",
        "# Menampilkan parameter terbaik\n",
        "print(knn_best_params)"
      ],
      "metadata": {
        "colab": {
          "base_uri": "https://localhost:8080/"
        },
        "id": "N5LUiyxoJOCj",
        "outputId": "7953426f-1867-4473-cd89-af03327dfbc7"
      },
      "execution_count": 23,
      "outputs": [
        {
          "output_type": "stream",
          "name": "stdout",
          "text": [
            "{'n_neighbors': 9}\n"
          ]
        }
      ]
    },
    {
      "cell_type": "code",
      "source": [
        "# Membuat objek KNeighborsClassifier dengan parameter terbaik\n",
        "knn_classifier = KNeighborsClassifier(n_neighbors=knn_best_params['n_neighbors'])\n",
        "\n",
        "# Melatih model dengan data latih\n",
        "knn_classifier.fit(X_train, y_train)\n",
        "\n",
        "# Menampilkan parameter terbaik\n",
        "print(\"Best parameters:\", knn_best_params)\n",
        "\n",
        "# Menampilkan parameter model yang digunakan\n",
        "print(\"Model parameters:\", knn_classifier.get_params())"
      ],
      "metadata": {
        "colab": {
          "base_uri": "https://localhost:8080/"
        },
        "id": "rJhwmw39JFw-",
        "outputId": "1c52bb3d-6f6e-4dd7-b429-fc17749c7a94"
      },
      "execution_count": 24,
      "outputs": [
        {
          "output_type": "stream",
          "name": "stdout",
          "text": [
            "Best parameters: {'n_neighbors': 9}\n",
            "Model parameters: {'algorithm': 'auto', 'leaf_size': 30, 'metric': 'minkowski', 'metric_params': None, 'n_jobs': None, 'n_neighbors': 9, 'p': 2, 'weights': 'uniform'}\n"
          ]
        }
      ]
    },
    {
      "cell_type": "markdown",
      "source": [
        "### **SVM**"
      ],
      "metadata": {
        "id": "KQqBgM_BJZUK"
      }
    },
    {
      "cell_type": "code",
      "source": [
        "# Membuat objek SVC (Support Vector Classifier)\n",
        "svm_classifier = SVC(random_state=42)\n",
        "\n",
        "# Menentukan hyperparameter yang akan diuji\n",
        "svm_params = {'C': [0.1, 1, 10], 'kernel': ['linear', 'rbf']}\n",
        "\n",
        "# Membuat objek GridSearchCV\n",
        "svm_grid = GridSearchCV(svm_classifier, svm_params, cv=5)\n",
        "\n",
        "# Melatih model dengan data train\n",
        "svm_grid.fit(X_train, y_train)\n",
        "\n",
        "# Mendapatkan parameter terbaik yang ditemukan oleh GridSearchCV\n",
        "svm_best_params = svm_grid.best_params_\n",
        "\n",
        "# Menampilkan parameter terbaik\n",
        "print(svm_best_params)"
      ],
      "metadata": {
        "colab": {
          "base_uri": "https://localhost:8080/"
        },
        "id": "tycxRALiJb4a",
        "outputId": "fb891cd2-6524-4840-dc6a-029e859076b8"
      },
      "execution_count": 25,
      "outputs": [
        {
          "output_type": "stream",
          "name": "stdout",
          "text": [
            "{'C': 10, 'kernel': 'rbf'}\n"
          ]
        }
      ]
    },
    {
      "cell_type": "code",
      "source": [
        "# Membuat objek SVC (Support Vector Classifier) dengan parameter terbaik\n",
        "svm_classifier = SVC(random_state=42, C=svm_best_params['C'], kernel=svm_best_params['kernel'])\n",
        "\n",
        "# Melatih model dengan data train\n",
        "svm_classifier.fit(X_train, y_train)\n",
        "\n",
        "# Menampilkan parameter terbaik\n",
        "print(\"Best parameters:\", svm_best_params)\n",
        "\n",
        "# Menampilkan parameter model yang digunakan\n",
        "print(\"Model parameters:\", svm_classifier.get_params())"
      ],
      "metadata": {
        "colab": {
          "base_uri": "https://localhost:8080/"
        },
        "id": "SROdOMOgJzBZ",
        "outputId": "fab133c9-ad53-46ac-e431-7d8e013a891e"
      },
      "execution_count": 26,
      "outputs": [
        {
          "output_type": "stream",
          "name": "stdout",
          "text": [
            "Best parameters: {'C': 10, 'kernel': 'rbf'}\n",
            "Model parameters: {'C': 10, 'break_ties': False, 'cache_size': 200, 'class_weight': None, 'coef0': 0.0, 'decision_function_shape': 'ovr', 'degree': 3, 'gamma': 'scale', 'kernel': 'rbf', 'max_iter': -1, 'probability': False, 'random_state': 42, 'shrinking': True, 'tol': 0.001, 'verbose': False}\n"
          ]
        }
      ]
    },
    {
      "cell_type": "markdown",
      "source": [
        "## **Nomor 2**\n",
        "\n",
        "Bandingkan hasilnya dan analisis model machine learning mana yang menghasilkan performa terbaik *(accuracy, precision, recall, dan F1 score)*"
      ],
      "metadata": {
        "id": "IscTzGw2J9ly"
      }
    },
    {
      "cell_type": "code",
      "source": [
        "# Menampilkan hasil hyperparameter terbaik\n",
        "\n",
        "print(\"Decision Tree Best Parameters:\", dt_best_params)\n",
        "print(\"KNN Best Parameters:\", knn_best_params)\n",
        "print(\"SVM Best Parameters:\", svm_best_params)\n",
        "print()"
      ],
      "metadata": {
        "colab": {
          "base_uri": "https://localhost:8080/"
        },
        "id": "ismqGyzuKBVM",
        "outputId": "bcbc73a6-55f6-4118-e41a-830d008e6cb5"
      },
      "execution_count": 30,
      "outputs": [
        {
          "output_type": "stream",
          "name": "stdout",
          "text": [
            "Decision Tree Best Parameters: {'max_depth': 10, 'min_samples_split': 2}\n",
            "KNN Best Parameters: {'n_neighbors': 9}\n",
            "SVM Best Parameters: {'C': 10, 'kernel': 'rbf'}\n",
            "\n"
          ]
        }
      ]
    },
    {
      "cell_type": "code",
      "source": [
        "# Evaluasi performa model dan menampilkan hasilnya\n",
        "\n",
        "dt_predictions = dt_grid.predict(X_test)\n",
        "nb_predictions = nb_classifier.predict(X_test)\n",
        "knn_predictions = knn_grid.predict(X_test)\n",
        "svm_predictions = svm_grid.predict(X_test)\n",
        "\n",
        "dt_accuracy = accuracy_score(y_test, dt_predictions)\n",
        "nb_accuracy = accuracy_score(y_test, nb_predictions)\n",
        "knn_accuracy = accuracy_score(y_test, knn_predictions)\n",
        "svm_accuracy = accuracy_score(y_test, svm_predictions)\n",
        "\n",
        "dt_precision = precision_score(y_test, dt_predictions, average='macro')\n",
        "nb_precision = precision_score(y_test, nb_predictions, average='macro')\n",
        "knn_precision = precision_score(y_test, knn_predictions, average='macro')\n",
        "svm_precision = precision_score(y_test, svm_predictions, average='macro')\n",
        "\n",
        "dt_recall = recall_score(y_test, dt_predictions, average='macro')\n",
        "nb_recall = recall_score(y_test, nb_predictions, average='macro')\n",
        "knn_recall = recall_score(y_test, knn_predictions, average='macro')\n",
        "svm_recall = recall_score(y_test, svm_predictions, average='macro')\n",
        "\n",
        "dt_f1_score = f1_score(y_test, dt_predictions, average='macro')\n",
        "nb_f1_score = f1_score(y_test, nb_predictions, average='macro')\n",
        "knn_f1_score = f1_score(y_test, knn_predictions, average='macro')\n",
        "svm_f1_score = f1_score(y_test, svm_predictions, average='macro')\n",
        "\n",
        "# Menampilkan hasil evaluasi performa\n",
        "print(\"Decision Tree Classifier:\")\n",
        "print(\"Accuracy:\", dt_accuracy)\n",
        "print(\"Precision:\", dt_precision)\n",
        "print(\"Recall:\", dt_recall)\n",
        "print(\"F1 Score:\", dt_f1_score)\n",
        "print()\n",
        "\n",
        "print(\"Naive Bayes Classifier:\")\n",
        "print(\"Accuracy:\", nb_accuracy)\n",
        "print(\"Precision:\", nb_precision)\n",
        "print(\"Recall:\", nb_recall)\n",
        "print(\"F1 Score:\", nb_f1_score)\n",
        "print()\n",
        "\n",
        "print(\"KNN Classifier:\")\n",
        "print(\"Accuracy:\", knn_accuracy)\n",
        "print(\"Precision:\", knn_precision)\n",
        "print(\"Recall:\", knn_recall)\n",
        "print(\"F1 Score:\", knn_f1_score)\n",
        "print()\n",
        "\n",
        "print(\"SVM Classifier:\")\n",
        "print(\"Accuracy:\", svm_accuracy)\n",
        "print(\"Precision:\", svm_precision)\n",
        "print(\"Recall:\", svm_recall)\n",
        "print(\"F1 Score:\", svm_f1_score)\n",
        "print()"
      ],
      "metadata": {
        "colab": {
          "base_uri": "https://localhost:8080/"
        },
        "id": "GbCWI5_9KZb7",
        "outputId": "8416ef71-9b70-47bc-de2a-c829ebf579d7"
      },
      "execution_count": 31,
      "outputs": [
        {
          "output_type": "stream",
          "name": "stdout",
          "text": [
            "Decision Tree Classifier:\n",
            "Accuracy: 0.9508670520231214\n",
            "Precision: 0.8408617358790824\n",
            "Recall: 0.8959466721134166\n",
            "F1 Score: 0.8588533271146823\n",
            "\n",
            "Naive Bayes Classifier:\n",
            "Accuracy: 0.8063583815028902\n",
            "Precision: 0.6535972850678733\n",
            "Recall: 0.8405874950478898\n",
            "F1 Score: 0.7116320258843623\n",
            "\n",
            "KNN Classifier:\n",
            "Accuracy: 0.9017341040462428\n",
            "Precision: 0.7810497724951249\n",
            "Recall: 0.6114603824331346\n",
            "F1 Score: 0.6367773358229698\n",
            "\n",
            "SVM Classifier:\n",
            "Accuracy: 0.9884393063583815\n",
            "Precision: 0.9523092369477912\n",
            "Recall: 0.9565427485342439\n",
            "F1 Score: 0.9537914503865264\n",
            "\n"
          ]
        }
      ]
    },
    {
      "cell_type": "markdown",
      "source": [
        "Berdasarkan hasil dan analisis model machine learning di atas berdasarkan *accuracy, precision, recall, dan F1 score*, maka didapatkan **model machine learning terbaik adalah SVM (Support Vector Machine)**, kemudian disusul Decision Tree, K - Nearest Neighbour (KNN), dan Naive Bayes."
      ],
      "metadata": {
        "id": "HbnhnbaXKyVT"
      }
    }
  ]
}